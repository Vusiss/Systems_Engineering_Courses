{
 "cells": [
  {
   "cell_type": "code",
   "execution_count": null,
   "metadata": {},
   "outputs": [],
   "source": [
    "class MT:\n",
    "    def __init__(self, zb_stnw, alfbt_wej, alfbt_tsm, fun_prz, stn_p, stn_ak, stn_od):\n",
    "        self.zb_stnw = zb_stnw\n",
    "        self.alfbt_wej = alfbt_wej\n",
    "        self.alfbt_tsm = alfbt_tsm\n",
    "        self.fun_prz = fun_prz\n",
    "        self.stn_p = stn_p\n",
    "        self.stn_ak = stn_ak\n",
    "        self.stn_od = stn_od\n",
    "        self.blank = '˽'\n",
    "\n",
    "    def start(self, slowo):\n",
    "        tasm = list(slowo) + [self.blank]\n",
    "        glw_idx = 0\n",
    "        stn = self.stn_p\n",
    "\n",
    "        while stn != self.stn_ak and stn != self.stn_od:\n",
    "            if glw_idx >= len(tasm):\n",
    "                tasm.append(self.blank)\n",
    "            symbol = tasm[glw_idx]\n",
    "\n",
    "            lewa = ''.join(tasm[:glw_idx]) if glw_idx != 0 else ''\n",
    "            prawa = ''.join(tasm[glw_idx:]) if glw_idx+1 < len(tasm) else ''\n",
    "            print(f\"({lewa}{stn}{prawa})\")\n",
    "\n",
    "            if (stn, symbol) not in self.fun_prz:\n",
    "                print(f\"Brak przejścia dla ({stn}, {symbol}) – maszyna zatrzymana.\")\n",
    "                break\n",
    "\n",
    "            nowy_stn, nowy_symbol, ruch = self.fun_prz[(stn, symbol)]\n",
    "            tasm[glw_idx] = nowy_symbol\n",
    "            stn = nowy_stn\n",
    "\n",
    "            if ruch == 'R':\n",
    "                glw_idx += 1\n",
    "                if glw_idx >= len(tasm):\n",
    "                    tasm.append(self.blank)\n",
    "            elif ruch == 'L':\n",
    "                glw_idx -= 1\n",
    "                if glw_idx < 0:\n",
    "                    glw_idx = 0\n",
    "\n",
    "        lewa = ''.join(tasm[:glw_idx]) if glw_idx != 0 else ''\n",
    "        prawa = ''.join(tasm[glw_idx:]) if glw_idx+1 < len(tasm) else ''\n",
    "        print(f\"({lewa}{stn}{prawa})\")\n",
    "\n",
    "        if stn == self.stn_ak:\n",
    "            print(\"Słowo zostało zaakceptowane.\")\n",
    "        elif stn == self.stn_od:\n",
    "            print(\"Słowo zostało odrzucone.\")\n",
    "        else:\n",
    "            print(\"Maszyna zakończyła działanie w stanie nieakceptującym.\")\n"
   ]
  },
  {
   "cell_type": "markdown",
   "metadata": {},
   "source": [
    "# Zadanie 1"
   ]
  },
  {
   "cell_type": "code",
   "execution_count": null,
   "metadata": {},
   "outputs": [
    {
     "name": "stdout",
     "output_type": "stream",
     "text": [
      "(q0aaa˽)\n",
      "(αq1aa˽)\n",
      "(q2αaa˽)\n",
      "(q3αaa˽)\n",
      "(αq4aa˽)\n",
      "(α/q5a˽)\n",
      "(α//q3)\n",
      "(α/q6/˽)\n",
      "(αq6//˽)\n",
      "(q6α//˽)\n",
      "(αq1//˽)\n",
      "(α/q1/˽)\n",
      "(α//q1)\n",
      "(α/qa/˽)\n",
      "Słowo zostało zaakceptowane.\n"
     ]
    }
   ],
   "source": [
    "zb_stnw = ['q0', 'q1', 'q2', 'q3', 'q4', 'q5', 'q6', 'qr', 'qa']\n",
    "alfbt_wej = ['a']  # alfabet wejściowy\n",
    "alfbt_tsm = ['a', '˽','α','/']  # alfabet taśmy\n",
    "fun_prz = {\n",
    "    ('q0', 'a'): ('q1', 'α', 'R'),\n",
    "    ('q0', '˽'): ('qr', '˽', 'L'),\n",
    "    \n",
    "    ('q1', 'a'): ('q2', 'a', 'L'),\n",
    "    ('q1', '˽'): ('qa', '˽', 'L'),\n",
    "    ('q1', '/'): ('q1', '/', 'R'),\n",
    "    \n",
    "    ('q2', '/'): ('q2', '/', 'L'),\n",
    "    ('q2', 'α'): ('q3', 'α', 'L'),\n",
    "    \n",
    "    ('q3', '/'): ('q3', '/', 'R'),\n",
    "    ('q3', 'a'): ('q4', 'a', 'R'),\n",
    "    ('q3', 'α'): ('q4', 'α', 'R'),\n",
    "    ('q3', '˽'): ('q6', '˽', 'L'),\n",
    "    \n",
    "    ('q4', 'a'): ('q5', '/', 'R'),\n",
    "    ('q4', '/'): ('q4', '/', 'R'),\n",
    "    ('q4', '˽'): ('qr', '˽', 'L'),\n",
    "    \n",
    "    ('q5', 'a'): ('q3', '/', 'R'),\n",
    "    ('q5', '/'): ('q5', '/', 'R'),\n",
    "    ('q5', '˽'): ('qr', '˽', 'L'),\n",
    "    \n",
    "    ('q6', 'a'): ('q6', 'a', 'L'),\n",
    "    ('q6', '/'): ('q6', '/', 'L'),\n",
    "    ('q6', 'α'): ('q1', 'α', 'R'),\n",
    "    \n",
    "    ('qr', 'a'): ('qr', 'a', 'R'),\n",
    "    ('qr', '˽'): ('qr', '˽', 'R'),\n",
    "    ('qr', 'α'): ('qr', 'α', 'R'),\n",
    "    \n",
    "    ('qa', 'a'): ('qa', 'a', 'R'),\n",
    "    ('qa', '˽'): ('qa', '˽', 'R'),\n",
    "    ('qa', 'α'): ('qa', 'α', 'R')\n",
    "}\n",
    "stn_p = 'q0'\n",
    "stn_ak = 'qa'\n",
    "stn_od = 'qr'\n",
    "word = \"aaa\"\n",
    "\n",
    "mt = MT(zb_stnw, alfbt_wej, alfbt_tsm, fun_prz, stn_p, stn_ak, stn_od)\n",
    "mt.start(word)"
   ]
  },
  {
   "cell_type": "markdown",
   "metadata": {},
   "source": [
    "# Zadanie 2"
   ]
  },
  {
   "cell_type": "code",
   "execution_count": null,
   "metadata": {},
   "outputs": [],
   "source": []
  }
 ],
 "metadata": {
  "kernelspec": {
   "display_name": "Python 3",
   "language": "python",
   "name": "python3"
  },
  "language_info": {
   "codemirror_mode": {
    "name": "ipython",
    "version": 3
   },
   "file_extension": ".py",
   "mimetype": "text/x-python",
   "name": "python",
   "nbconvert_exporter": "python",
   "pygments_lexer": "ipython3",
   "version": "3.10.11"
  }
 },
 "nbformat": 4,
 "nbformat_minor": 2
}
