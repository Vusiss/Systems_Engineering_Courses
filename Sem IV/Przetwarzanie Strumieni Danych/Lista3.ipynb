{
 "cells": [
  {
   "cell_type": "code",
   "execution_count": 320,
   "metadata": {},
   "outputs": [],
   "source": [
    "import numpy as np\n",
    "import matplotlib.pyplot as plt\n",
    "from scipy.signal import periodogram, welch\n",
    "from scipy import signal\n",
    "import seaborn as sns\n",
    "import ipywidgets as widgets\n",
    "from IPython.display import clear_output\n",
    "from ipywidgets import interact, FloatSlider, IntSlider"
   ]
  },
  {
   "cell_type": "code",
   "execution_count": 321,
   "metadata": {},
   "outputs": [],
   "source": [
    "fs = 1000\n",
    "t = np.linspace(0, 1, fs) \n",
    "f = 20"
   ]
  },
  {
   "cell_type": "code",
   "execution_count": 322,
   "metadata": {},
   "outputs": [],
   "source": [
    "def comapre_signals(sygnal1, sygnal2_1, sygnal2_2 = None, xmin = 0, xmax = 1, name = None, original = True):\n",
    "    \n",
    "    sns.set()\n",
    "\n",
    "    fig, axs = plt.subplots(1, 2, figsize=(16, 4))\n",
    "\n",
    "    axs[0].plot(sygnal1[0],sygnal1[1])\n",
    "    if original:\n",
    "        axs[0].set_title(f'Oryginalny sygnał {name}')\n",
    "        axs[0].set_xlabel('Czas')\n",
    "        axs[0].set_ylabel('Amplituda')\n",
    "    else:\n",
    "        axs[0].set_title(f'Widmowa gęstość mocy {name}')\n",
    "        axs[0].set_xlabel('Częstotliwość')\n",
    "        axs[0].set_ylabel('Gęstość mocy')\n",
    "    axs[0].set_xlim(xmin,xmax)\n",
    "\n",
    "    sns.lineplot(x=sygnal2_1[0], y=sygnal2_1[1], label='Periodogram', ax=axs[1])\n",
    "    if sygnal2_2: sns.lineplot(x=sygnal2_2[0], y=sygnal2_2[1], label='Welch', ax=axs[1])\n",
    "    axs[1].set_title(f'Widmowa gęstość mocy {name}')\n",
    "    axs[1].set_xlabel('Częstotliwość')\n",
    "    axs[1].set_ylabel('Gęstość mocy')\n",
    "    axs[1].legend()\n",
    "    axs[1].set_xlim(xmin,100)\n",
    "    \n",
    "\n",
    "    plt.tight_layout()\n",
    "    plt.show()\n",
    "      \n",
    "def wgm(sygnal):\n",
    "    \n",
    "    f_periodogram, Pxx_periodogram = periodogram(sygnal, fs=fs)\n",
    "\n",
    "    f_welch, Pxx_welch = welch(sygnal, fs=fs)\n",
    "\n",
    "    return [f_periodogram, Pxx_periodogram], [f_welch, Pxx_welch]\n",
    "\n",
    "def handmade_wgm(signal):\n",
    "        N = len(signal)\n",
    "        dt = 1 / fs\n",
    "        Tau = np.arange(-N+1, N) * dt # Tworzymy Tau osobno na podstawie częstotliwości próbkowania\n",
    "        freqs = np.linspace(-fs / 2, fs / 2, len(signal))\n",
    "    \n",
    "\n",
    "        R_xx = np.correlate(signal, signal, mode='full') / N\n",
    "        S_xx = []\n",
    "\n",
    "        # Całka w formie listy sum\n",
    "        for f in freqs:\n",
    "            exp_term = np.exp(-1j * 2 * np.pi * f * Tau)  # e^(-i2πfτ)\n",
    "            integral = np.sum(R_xx * exp_term) * dt  \n",
    "            # sumowanie ręczne zamiast całki, bo funkcja całki nie pozwala nam wprowadzic zmiennych w tej formie\n",
    "            S_xx.append(np.abs(integral))\n",
    "\n",
    "\n",
    "        return [freqs, S_xx],None\n",
    "\n",
    "def make_signals():\n",
    "    \n",
    "    x_sin = np.sin(2 * np.pi * f * t)\n",
    "    x_rect = signal.square(2 * np.pi * f * t)\n",
    "    x_saw = signal.sawtooth(2 * np.pi * f * t)\n",
    "    f1 = f\n",
    "    f2 = 4*f\n",
    "    x_chirp = signal.chirp(t, f0=f1, f1=f2, t1=t[-1], method='linear')\n",
    "    x_super = np.sin(2 * np.pi * f1 * t) + 0.5 * np.cos(2 * np.pi * f2 * t)\n",
    "    x_imp = np.zeros(len(t))\n",
    "    x_imp[int(len(t)/2)] = 1    \n",
    "\n",
    "    signals = {\n",
    "    \"sinusoidalny\": x_sin,\n",
    "    \"prostokątny\": x_rect,\n",
    "    \"piłokształtny\": x_saw,\n",
    "    \"świergotliwy\": x_chirp,\n",
    "    \"superpozycji\": x_super,\n",
    "    \"impuls jednostkowy\": x_imp\n",
    "}\n",
    "    return signals"
   ]
  },
  {
   "cell_type": "code",
   "execution_count": 323,
   "metadata": {},
   "outputs": [],
   "source": [
    "signals = make_signals()"
   ]
  },
  {
   "cell_type": "code",
   "execution_count": 324,
   "metadata": {},
   "outputs": [],
   "source": [
    "def show_signal_comparison(func1, func2 = False, overlapping = False, original = False):\n",
    "\n",
    "    \n",
    "\n",
    "    def interactive_plot(signal_name):\n",
    "        clear_output(wait=True)\n",
    "        s = signals[signal_name]\n",
    "        s1, s2 = func1(s)\n",
    "        if func2: s, s22 = func2(s)\n",
    "        \n",
    "        if overlapping and original:\n",
    "            comapre_signals([t, s], s1, s2, name=signal_name, original=original)\n",
    "        elif overlapping:\n",
    "            comapre_signals(s, s1, s2, xmax = 100,name=signal_name, original=original)\n",
    "        elif original:\n",
    "            comapre_signals([t, s], s1, name=signal_name, original=original)\n",
    "        else:\n",
    "            print(\"Źle zrobiony wykres\")\n",
    "\n",
    "    signal_selector = widgets.Dropdown(\n",
    "        options=list(signals.keys()),\n",
    "        description='Sygnał:',\n",
    "        style={'description_width': 'initial'},\n",
    "        layout=widgets.Layout(width='50%')\n",
    "    )\n",
    "\n",
    "    widgets.interact(interactive_plot, signal_name=signal_selector)\n"
   ]
  },
  {
   "cell_type": "markdown",
   "metadata": {},
   "source": [
    "# Zadanie 1"
   ]
  },
  {
   "cell_type": "code",
   "execution_count": null,
   "metadata": {},
   "outputs": [
    {
     "data": {
      "application/vnd.jupyter.widget-view+json": {
       "model_id": "65ba89cf55a4448dac941cac20741f4e",
       "version_major": 2,
       "version_minor": 0
      },
      "text/plain": [
       "interactive(children=(Dropdown(description='Sygnał:', layout=Layout(width='50%'), options=('sinusoidalny', 'pr…"
      ]
     },
     "metadata": {},
     "output_type": "display_data"
    }
   ],
   "source": [
    "show_signal_comparison(wgm,overlapping = True, original = True)\n"
   ]
  },
  {
   "cell_type": "markdown",
   "metadata": {},
   "source": [
    "# Zadanie 2"
   ]
  },
  {
   "cell_type": "code",
   "execution_count": null,
   "metadata": {},
   "outputs": [
    {
     "data": {
      "application/vnd.jupyter.widget-view+json": {
       "model_id": "bfb850e543fa48ac922419771a22f237",
       "version_major": 2,
       "version_minor": 0
      },
      "text/plain": [
       "interactive(children=(Dropdown(description='Sygnał:', layout=Layout(width='50%'), options=('sinusoidalny', 'pr…"
      ]
     },
     "metadata": {},
     "output_type": "display_data"
    }
   ],
   "source": [
    "show_signal_comparison(handmade_wgm,overlapping = False, original = True)"
   ]
  },
  {
   "cell_type": "markdown",
   "metadata": {},
   "source": [
    "# Zadanie 3"
   ]
  },
  {
   "cell_type": "code",
   "execution_count": null,
   "metadata": {},
   "outputs": [
    {
     "data": {
      "application/vnd.jupyter.widget-view+json": {
       "model_id": "dbafd2dede5f4a24a560da5744f23d96",
       "version_major": 2,
       "version_minor": 0
      },
      "text/plain": [
       "interactive(children=(Dropdown(description='Sygnał:', layout=Layout(width='50%'), options=('sinusoidalny', 'pr…"
      ]
     },
     "metadata": {},
     "output_type": "display_data"
    }
   ],
   "source": [
    "show_signal_comparison(wgm,handmade_wgm,overlapping = True, original = False)"
   ]
  }
 ],
 "metadata": {
  "kernelspec": {
   "display_name": "Python 3",
   "language": "python",
   "name": "python3"
  },
  "language_info": {
   "codemirror_mode": {
    "name": "ipython",
    "version": 3
   },
   "file_extension": ".py",
   "mimetype": "text/x-python",
   "name": "python",
   "nbconvert_exporter": "python",
   "pygments_lexer": "ipython3",
   "version": "3.10.11"
  }
 },
 "nbformat": 4,
 "nbformat_minor": 2
}
