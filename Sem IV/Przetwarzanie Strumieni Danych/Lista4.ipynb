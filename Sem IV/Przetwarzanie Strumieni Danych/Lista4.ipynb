{
 "cells": [
  {
   "cell_type": "code",
   "execution_count": 205,
   "metadata": {},
   "outputs": [],
   "source": [
    "import numpy as np\n",
    "import matplotlib.pyplot as plt\n",
    "import seaborn as sns\n",
    "from ipywidgets import interact, FloatSlider, IntSlider\n"
   ]
  },
  {
   "cell_type": "code",
   "execution_count": null,
   "metadata": {},
   "outputs": [
    {
     "data": {
      "application/vnd.jupyter.widget-view+json": {
       "model_id": "5740e87670c446e5a3c14c87ad49e2fe",
       "version_major": 2,
       "version_minor": 0
      },
      "text/plain": [
       "interactive(children=(FloatSlider(value=5.0, description='f [Hz]', max=20.0, min=1.0, step=0.5), IntSlider(val…"
      ]
     },
     "metadata": {},
     "output_type": "display_data"
    },
    {
     "data": {
      "text/plain": [
       "<function __main__.plot_sinus(f=5.0, fs=50)>"
      ]
     },
     "execution_count": 206,
     "metadata": {},
     "output_type": "execute_result"
    }
   ],
   "source": [
    "sns.set(style=\"darkgrid\")\n",
    "\n",
    "def plot_sinus(f=5.0, fs=50):\n",
    "    t_end = 1\n",
    "    t = np.linspace(0, t_end, 1000)\n",
    "    y = np.sin(2 * np.pi * f * t)\n",
    "    t_samples = np.arange(0, t_end, 1/fs)\n",
    "    y_samples = np.sin(2 * np.pi * f * t_samples)\n",
    "\n",
    "    plt.figure(figsize=(10, 4))\n",
    "    plt.plot(t, y, label='Sygnał ciągły', color='grey')\n",
    "    plt.scatter(t_samples, y_samples, color='#5C0120', label='Próbki')\n",
    "    plt.title(f'Sygnał sinusoidalny: f = {f} Hz, fs = {fs} Hz')\n",
    "    plt.xlabel('Czas [s]')\n",
    "    plt.ylabel('Amplituda')\n",
    "    plt.grid(True)\n",
    "    plt.legend()\n",
    "    plt.ylim(-1.2, 1.2)\n",
    "    plt.show()\n",
    "\n",
    "interact(plot_sinus,\n",
    "         f=FloatSlider(value=5, min=1, max=20, step=0.5, description='f [Hz]'),\n",
    "         fs=IntSlider(value=15, min=5, max=100, step=10, description='fs [Hz]'))\n"
   ]
  },
  {
   "cell_type": "code",
   "execution_count": 207,
   "metadata": {},
   "outputs": [
    {
     "data": {
      "application/vnd.jupyter.widget-view+json": {
       "model_id": "5909adcf612d474e9629849a4c941a8f",
       "version_major": 2,
       "version_minor": 0
      },
      "text/plain": [
       "interactive(children=(FloatSlider(value=5.0, description='f [Hz]', max=20.0, min=1.0, step=0.5), IntSlider(val…"
      ]
     },
     "metadata": {},
     "output_type": "display_data"
    },
    {
     "data": {
      "text/plain": [
       "<function __main__.plot_interpolation(f=5.0, fs=20)>"
      ]
     },
     "execution_count": 207,
     "metadata": {},
     "output_type": "execute_result"
    }
   ],
   "source": [
    "def piecewise_linear_interpolation(t_cont : int, t_samples : list, y_samples : list):\n",
    "    '''\n",
    "    Proste liczenie funkcji liniowych (y = ax + b) pomiędzy punktami i sklejenie ich w np.piecewise\n",
    "    Input:\n",
    "        t_count - liczba punktów,\n",
    "        t_samples - wartości czasowe dla punktów\n",
    "        y_samples - wartości y dla punktów\n",
    "        \n",
    "    Output:\n",
    "        sygnal dyskretny z wartościami pomiędzy punktami obliczonymi za pomoca funkcji liniowych pomiędzy punktami\n",
    "    '''\n",
    "    conditions = []\n",
    "    functions = []\n",
    "\n",
    "    for i in range(len(t_samples) - 1):\n",
    "        x0, x1 = t_samples[i], t_samples[i + 1]\n",
    "        y0, y1 = y_samples[i], y_samples[i + 1]\n",
    "        m = (y1 - y0) / (x1 - x0)\n",
    "        b = y0 - m * x0\n",
    "        conditions.append((t_cont >= x0) & (t_cont < x1))\n",
    "        functions.append(lambda t, m=m, b=b: m * t + b)\n",
    "\n",
    "    conditions.append(t_cont >= t_samples[-1])\n",
    "    functions.append(lambda t: y_samples[-1])\n",
    "\n",
    "    return np.piecewise(t_cont, conditions, functions)\n",
    "\n",
    "def plot_interpolation(f=5.0, fs=20):\n",
    "    t_end = 1\n",
    "    t = np.linspace(0, t_end, 1000)\n",
    "    y = np.sin(2 * np.pi * f * t)\n",
    "    t_samples = np.arange(0, t_end + 1/fs, 1/fs)\n",
    "    y_samples = np.sin(2 * np.pi * f * t_samples)\n",
    "    y_interp = piecewise_linear_interpolation(t, t_samples, y_samples)\n",
    "    error = y - y_interp\n",
    "    \n",
    "    plt.figure(figsize=(10, 4))\n",
    "    plt.plot(t, y, label='Sygnał oryginalny', color='grey')\n",
    "    plt.plot(t, y_interp, '--', label='Interpolacja', color='#7F1734')\n",
    "    plt.scatter(t_samples, y_samples, color='#5C0120', label='Próbki')\n",
    "    plt.title(f'Interpolacja liniowa: f = {f} Hz, fs = {fs} Hz')\n",
    "    plt.xlabel('Czas [s]')\n",
    "    plt.ylabel('Amplituda')\n",
    "    plt.grid(True)\n",
    "    plt.legend()\n",
    "    plt.ylim(-1.2, 1.2)\n",
    "    plt.show()\n",
    "\n",
    "    plt.figure(figsize=(10, 3))\n",
    "    plt.plot(t, error, color='#006666')\n",
    "    plt.title('Błąd interpolacji (oryginał - interpolacja)')\n",
    "    plt.xlabel('Czas [s]')\n",
    "    plt.ylabel('Błąd')\n",
    "    plt.grid(True)\n",
    "    plt.show()\n",
    "\n",
    "interact(plot_interpolation,\n",
    "         f=FloatSlider(value=5.0, min=1.0, max=20.0, step=0.5, description='f [Hz]'),\n",
    "         fs=IntSlider(value=15, min=5, max=100, step=5, description='fs [Hz]'))\n"
   ]
  },
  {
   "cell_type": "code",
   "execution_count": 208,
   "metadata": {},
   "outputs": [
    {
     "data": {
      "application/vnd.jupyter.widget-view+json": {
       "model_id": "53e1500f62bb423ea59d79d8009f5a4a",
       "version_major": 2,
       "version_minor": 0
      },
      "text/plain": [
       "interactive(children=(FloatSlider(value=5.0, description='f [Hz]', max=20.0, min=1.0, step=0.5), IntSlider(val…"
      ]
     },
     "metadata": {},
     "output_type": "display_data"
    },
    {
     "data": {
      "text/plain": [
       "<function __main__.plot_interpolation(f=5.0, fs=20)>"
      ]
     },
     "execution_count": 208,
     "metadata": {},
     "output_type": "execute_result"
    }
   ],
   "source": [
    "def whittaker_shannon_interpolation(t, t_samples, x_samples, T):  \n",
    "    y_interp = np.zeros_like(t)\n",
    "    for n in range(len(x_samples)):\n",
    "        y_interp += x_samples[n] * np.sinc((t - t_samples[n]) / T) # sinc(x) = sin(πx) / (πx)\n",
    "    return y_interp\n",
    "\n",
    "def plot_interpolation(f=5.0, fs=20):\n",
    "    t_end = 1\n",
    "    T = 1 / fs\n",
    "    t_cont = np.linspace(0, t_end, 1000)\n",
    "    y_cont = np.sin(2 * np.pi * f * t_cont)\n",
    "    t_samples = np.arange(0, t_end + T, T)\n",
    "    x_samples = np.sin(2 * np.pi * f * t_samples)\n",
    "    y_interp = whittaker_shannon_interpolation(t_cont, t_samples, x_samples, T)\n",
    "    error = y_cont - y_interp\n",
    "\n",
    "    plt.figure(figsize=(10, 4))\n",
    "    plt.plot(t_cont, y_cont, label='Sygnał oryginalny', color='grey')\n",
    "    plt.plot(t_cont, y_interp, '--', label='Interpolacja Whittaker–Shannon', color='#7F1734')\n",
    "    plt.scatter(t_samples, x_samples, color='#5C0120', label='Próbki')\n",
    "    plt.title(f'Interpolacja Whittakera–Shannona: f = {f} Hz, fs = {fs} Hz')\n",
    "    plt.xlabel('Czas [s]')\n",
    "    plt.ylabel('Amplituda')\n",
    "    plt.ylim(-1.2, 1.2)\n",
    "    plt.grid(True)\n",
    "    plt.legend()\n",
    "    plt.tight_layout()\n",
    "    plt.show()\n",
    "\n",
    "    plt.figure(figsize=(10, 3))\n",
    "    plt.plot(t_cont, error, color='#006666')\n",
    "    plt.title('Błąd interpolacji (oryginał - interpolacja)')\n",
    "    plt.xlabel('Czas [s]')\n",
    "    plt.ylabel('Błąd')\n",
    "    plt.grid(True)\n",
    "    plt.tight_layout()\n",
    "    plt.show()\n",
    "\n",
    "interact(plot_interpolation,\n",
    "         f=FloatSlider(value=5.0, min=1.0, max=20.0, step=0.5, description='f [Hz]'),\n",
    "         fs=IntSlider(value=15, min=5, max=100, step=5, description='fs [Hz]'))\n"
   ]
  }
 ],
 "metadata": {
  "kernelspec": {
   "display_name": "Python 3",
   "language": "python",
   "name": "python3"
  },
  "language_info": {
   "codemirror_mode": {
    "name": "ipython",
    "version": 3
   },
   "file_extension": ".py",
   "mimetype": "text/x-python",
   "name": "python",
   "nbconvert_exporter": "python",
   "pygments_lexer": "ipython3",
   "version": "3.10.11"
  }
 },
 "nbformat": 4,
 "nbformat_minor": 2
}
