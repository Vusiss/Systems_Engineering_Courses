{
 "cells": [
  {
   "cell_type": "code",
   "execution_count": 20,
   "metadata": {},
   "outputs": [],
   "source": [
    "from Poker_Funcs import Poker_odds_calculator"
   ]
  },
  {
   "cell_type": "code",
   "execution_count": 21,
   "metadata": {},
   "outputs": [],
   "source": [
    "my_hand = [('spade', 1), ('heart', 2)]\n",
    "table_cards = [('spade', 3), ('heart', 4), ('spade', 5)]"
   ]
  },
  {
   "cell_type": "code",
   "execution_count": 31,
   "metadata": {},
   "outputs": [
    {
     "name": "stdout",
     "output_type": "stream",
     "text": [
      "Straight flush 0.09250693802035154\n",
      "Four-of-a-Kind 0.0\n",
      "Full house 0.0\n",
      "Flush 4.070305272895467\n",
      "Straight 95.83718778908418\n",
      "Three-of-a-Kind 0.0\n",
      "Two pair 0.0\n",
      "One pair 0.0\n",
      "High card 0.0\n"
     ]
    }
   ],
   "source": [
    "odds = Poker_odds_calculator(my_hand,table_cards)\n",
    "for i in odds.items():\n",
    "    print(*i)"
   ]
  }
 ],
 "metadata": {
  "kernelspec": {
   "display_name": "Python 3",
   "language": "python",
   "name": "python3"
  },
  "language_info": {
   "codemirror_mode": {
    "name": "ipython",
    "version": 3
   },
   "file_extension": ".py",
   "mimetype": "text/x-python",
   "name": "python",
   "nbconvert_exporter": "python",
   "pygments_lexer": "ipython3",
   "version": "3.10.11"
  }
 },
 "nbformat": 4,
 "nbformat_minor": 2
}
