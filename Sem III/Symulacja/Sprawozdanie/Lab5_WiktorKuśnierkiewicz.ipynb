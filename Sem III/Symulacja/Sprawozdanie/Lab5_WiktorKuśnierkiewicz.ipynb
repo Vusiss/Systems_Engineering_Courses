{
 "cells": [
  {
   "cell_type": "code",
   "execution_count": 699,
   "metadata": {},
   "outputs": [],
   "source": [
    "import numpy as np\n",
    "import scipy.stats as stats\n",
    "import matplotlib.pyplot as plt\n",
    "import statistics\n",
    "import pandas as pd\n",
    "from scipy.stats import shapiro"
   ]
  },
  {
   "cell_type": "markdown",
   "metadata": {},
   "source": [
    "### a)"
   ]
  },
  {
   "cell_type": "code",
   "execution_count": 700,
   "metadata": {},
   "outputs": [],
   "source": [
    "class RandomGenerator:\n",
    "    def __init__(self, x0=1):\n",
    "        self.x = x0  \n",
    "        self.a = 45438   \n",
    "        self.c = 34 \n",
    "        self.m = 778784\n",
    "\n",
    "    def losowa(self):\n",
    "        self.x = (self.a * self.x + self.c) % self.m\n",
    "        return (self.x / self.m) * 2 - 1\n",
    "\n",
    "    def generuj(self, n):\n",
    "        return self.na_normalne([self.losowa() for _ in range(n)])\n",
    "    \n",
    "    def na_normalne(self, wartosci_jednolite):\n",
    "        wartosci_jednolite_skalowane = abs(np.array(wartosci_jednolite))\n",
    "        \n",
    "        u1 = wartosci_jednolite_skalowane[::2]  \n",
    "        u2 = wartosci_jednolite_skalowane[1::2] \n",
    "        \n",
    "        z0 = np.sqrt(-2 * np.log(u1)) * np.cos(2 * np.pi * u2)\n",
    "        z1 = np.sqrt(-2 * np.log(u1)) * np.sin(2 * np.pi * u2)\n",
    "\n",
    "        srednia = 0.5\n",
    "        odch_std = 0.5\n",
    "        x0 = srednia + odch_std * z0\n",
    "        x1 = srednia + odch_std * z1\n",
    "\n",
    "        wynik = np.concatenate((x0, x1))\n",
    "        \n",
    "        return wynik\n",
    "\n"
   ]
  },
  {
   "cell_type": "markdown",
   "metadata": {},
   "source": [
    "### b)"
   ]
  },
  {
   "cell_type": "code",
   "execution_count": 701,
   "metadata": {},
   "outputs": [],
   "source": [
    "generator = RandomGenerator()\n",
    "\n",
    "ciag_20 = generator.generuj(20)\n",
    "ciag_100 = generator.generuj(100)"
   ]
  },
  {
   "cell_type": "markdown",
   "metadata": {},
   "source": [
    "### c)"
   ]
  },
  {
   "cell_type": "code",
   "execution_count": 702,
   "metadata": {},
   "outputs": [],
   "source": [
    "wartości = [ \"Średnia\",\n",
    "        \"Mediana\",\n",
    "        \"Moda\",\n",
    "        \"Odchylenie standardowe\",\n",
    "        \"Wariancja\",\n",
    "        \"Skośność\",\n",
    "        \"Kurtoza\",\n",
    "        \"Pierwszy Kwantyl\"]\n",
    "\n",
    "def podaj_wartości_statystyczne(seq):\n",
    "     \n",
    "    return {\n",
    "        \n",
    "        \"Średnia\": np.mean(seq),\n",
    "        \"Mediana\": np.median(seq),\n",
    "        \"Moda\": statistics.mode(seq) if len(set(seq)) < len(seq) else \"ND\", # W przypadku tego zadania zwykle kazda wartość jest modą, bo sznasa na powtórzenie się liczb jest bardzo mała\n",
    "        \"Odchylenie standardowe\": np.std(seq, ddof=1),\n",
    "        \"Wariancja\": np.var(seq, ddof=1),\n",
    "        \"Skośność\": stats.skew(seq),\n",
    "        \"Kurtoza\": stats.kurtosis(seq),\n",
    "        \"Pierwszy Kwantyl\": np.percentile(seq, 25)\n",
    "        \n",
    "    }"
   ]
  },
  {
   "cell_type": "code",
   "execution_count": 703,
   "metadata": {},
   "outputs": [],
   "source": [
    "statystyki_rozkładu_normalnego = {\n",
    "    \"Średnia\": 0.5,\n",
    "    \"Mediana\": 0.5,\n",
    "    \"Moda\": 0.5,\n",
    "    \"Odchylenie standardowe\": 0.5,\n",
    "    \"Wariancja\": 0.25,\n",
    "    \"Skośność\": 0,\n",
    "    \"Kurtoza\": 3,\n",
    "    \"Pierwszy Kwantyl\": 0.16275\n",
    "}\n",
    "\n",
    "\n",
    "lab3_ciag_15 = np.random.normal(0.5, 0.5, 15)\n",
    "lab3_ciag_120 = np.random.normal(0.5, 0.5, 120)\n",
    "\n",
    "statystyki_20 = podaj_wartości_statystyczne(ciag_20)\n",
    "statystyki_100 = podaj_wartości_statystyczne(ciag_100)\n",
    "lab3_statystyi_15 = podaj_wartości_statystyczne(lab3_ciag_15)\n",
    "lab3_statystyki_120 = podaj_wartości_statystyczne(lab3_ciag_120)"
   ]
  },
  {
   "cell_type": "code",
   "execution_count": 704,
   "metadata": {},
   "outputs": [
    {
     "data": {
      "text/html": [
       "<div>\n",
       "<style scoped>\n",
       "    .dataframe tbody tr th:only-of-type {\n",
       "        vertical-align: middle;\n",
       "    }\n",
       "\n",
       "    .dataframe tbody tr th {\n",
       "        vertical-align: top;\n",
       "    }\n",
       "\n",
       "    .dataframe thead th {\n",
       "        text-align: right;\n",
       "    }\n",
       "</style>\n",
       "<table border=\"1\" class=\"dataframe\">\n",
       "  <thead>\n",
       "    <tr style=\"text-align: right;\">\n",
       "      <th></th>\n",
       "      <th>Średnia</th>\n",
       "      <th>Mediana</th>\n",
       "      <th>Moda</th>\n",
       "      <th>Odchylenie standardowe</th>\n",
       "      <th>Wariancja</th>\n",
       "      <th>Skośność</th>\n",
       "      <th>Kurtoza</th>\n",
       "      <th>Pierwszy Kwantyl</th>\n",
       "    </tr>\n",
       "  </thead>\n",
       "  <tbody>\n",
       "    <tr>\n",
       "      <th>Ciąg 20</th>\n",
       "      <td>0.416846</td>\n",
       "      <td>0.494868</td>\n",
       "      <td>ND</td>\n",
       "      <td>0.479817</td>\n",
       "      <td>0.230224</td>\n",
       "      <td>-0.125315</td>\n",
       "      <td>-0.744762</td>\n",
       "      <td>0.036393</td>\n",
       "    </tr>\n",
       "    <tr>\n",
       "      <th>Ciąg 100</th>\n",
       "      <td>0.505438</td>\n",
       "      <td>0.513426</td>\n",
       "      <td>ND</td>\n",
       "      <td>0.480172</td>\n",
       "      <td>0.230565</td>\n",
       "      <td>-0.343716</td>\n",
       "      <td>0.293867</td>\n",
       "      <td>0.248712</td>\n",
       "    </tr>\n",
       "    <tr>\n",
       "      <th>Lab3 Ciąg 15</th>\n",
       "      <td>0.526593</td>\n",
       "      <td>0.462447</td>\n",
       "      <td>ND</td>\n",
       "      <td>0.442665</td>\n",
       "      <td>0.195953</td>\n",
       "      <td>-0.253647</td>\n",
       "      <td>-0.730249</td>\n",
       "      <td>0.294977</td>\n",
       "    </tr>\n",
       "    <tr>\n",
       "      <th>Lab3 Ciąg 120</th>\n",
       "      <td>0.484913</td>\n",
       "      <td>0.486420</td>\n",
       "      <td>ND</td>\n",
       "      <td>0.458210</td>\n",
       "      <td>0.209956</td>\n",
       "      <td>0.022340</td>\n",
       "      <td>-0.378052</td>\n",
       "      <td>0.139130</td>\n",
       "    </tr>\n",
       "    <tr>\n",
       "      <th>Rozkład Normalny</th>\n",
       "      <td>0.500000</td>\n",
       "      <td>0.500000</td>\n",
       "      <td>0.5</td>\n",
       "      <td>0.500000</td>\n",
       "      <td>0.250000</td>\n",
       "      <td>0.000000</td>\n",
       "      <td>3.000000</td>\n",
       "      <td>0.162750</td>\n",
       "    </tr>\n",
       "  </tbody>\n",
       "</table>\n",
       "</div>"
      ],
      "text/plain": [
       "                   Średnia   Mediana Moda  Odchylenie standardowe  Wariancja  \\\n",
       "Ciąg 20           0.416846  0.494868   ND                0.479817   0.230224   \n",
       "Ciąg 100          0.505438  0.513426   ND                0.480172   0.230565   \n",
       "Lab3 Ciąg 15      0.526593  0.462447   ND                0.442665   0.195953   \n",
       "Lab3 Ciąg 120     0.484913  0.486420   ND                0.458210   0.209956   \n",
       "Rozkład Normalny  0.500000  0.500000  0.5                0.500000   0.250000   \n",
       "\n",
       "                  Skośność   Kurtoza  Pierwszy Kwantyl  \n",
       "Ciąg 20          -0.125315 -0.744762          0.036393  \n",
       "Ciąg 100         -0.343716  0.293867          0.248712  \n",
       "Lab3 Ciąg 15     -0.253647 -0.730249          0.294977  \n",
       "Lab3 Ciąg 120     0.022340 -0.378052          0.139130  \n",
       "Rozkład Normalny  0.000000  3.000000          0.162750  "
      ]
     },
     "execution_count": 704,
     "metadata": {},
     "output_type": "execute_result"
    }
   ],
   "source": [
    "lab3_statystyki_120 = podaj_wartości_statystyczne(lab3_ciag_120)\n",
    "statystyki_df = pd.DataFrame([statystyki_20, statystyki_100,lab3_statystyi_15,lab3_statystyki_120,statystyki_rozkładu_normalnego], index=['Ciąg 20', 'Ciąg 100', 'Lab3 Ciąg 15','Lab3 Ciąg 120',\"Rozkład Normalny\"])\n",
    "statystyki_df"
   ]
  },
  {
   "cell_type": "markdown",
   "metadata": {},
   "source": [
    "Łatwo zauważyć, że dla większych prób statystyki są znacznie bliższe rozkładowi normalnemu.\n",
    "\n",
    "Ze względu na użytą metodę generowania liczb pseudolosowych w laboratorium nr 5, odchylenie standardowe i wariancja są znacząco  zbliżone do rozkładu normalnego dla próby mniejszej (20) i większej (100), w przeciwieństwie do ciągów z laboratorium nr 3, gdzie różnica ta jest znacznie większa.\n"
   ]
  },
  {
   "cell_type": "markdown",
   "metadata": {},
   "source": [
    "### d)"
   ]
  },
  {
   "cell_type": "code",
   "execution_count": 705,
   "metadata": {},
   "outputs": [],
   "source": [
    "wartosci_x = np.linspace(-1, 2, 100)\n",
    "gestosc_teoretyczna = stats.norm.pdf(wartosci_x, 0.5, 0.5)\n",
    "\n",
    "def nakreśl_wykres(sequence,s2):\n",
    "    fig, (ax1,ax2) = plt.subplots(1,2, figsize = (10,5))\n",
    "\n",
    "    ax1.set_title(\"Laboratorium nr 5\")\n",
    "    ax1.set_xlabel('wartość')\n",
    "    ax1.set_ylabel('gęstość')\n",
    "    ax1.set_ylim(0,3)\n",
    "    ax1.plot(wartosci_x, gestosc_teoretyczna, 'r--')\n",
    "    \n",
    "    ax1.hist(sequence, bins=10, density=True, alpha=0.6, color='g',edgecolor='black')\n",
    "    \n",
    "    ax2.hist(s2, bins=10, density=True, alpha=0.6, color='g',edgecolor='black')\n",
    "    ax2.plot(wartosci_x, gestosc_teoretyczna, 'r--')\n",
    "    ax2.set_title('Laboratorium nr 3')\n",
    "    ax2.set_xlabel('wartość')\n",
    "    ax2.set_ylabel('gęstość')\n",
    "    ax2.set_ylim(0,3)\n",
    "    \n",
    "    plt.show()"
   ]
  },
  {
   "cell_type": "code",
   "execution_count": 706,
   "metadata": {},
   "outputs": [
    {
     "data": {
      "image/png": "[encoded data removed]",
      "text/plain": [
       "<Figure size 1000x500 with 2 Axes>"
      ]
     },
     "metadata": {},
     "output_type": "display_data"
    },
    {
     "data": {
      "image/png": "[encoded data removed]",
      "text/plain": [
       "<Figure size 1000x500 with 2 Axes>"
      ]
     },
     "metadata": {},
     "output_type": "display_data"
    }
   ],
   "source": [
    "nakreśl_wykres(ciag_20,lab3_ciag_15)\n",
    "nakreśl_wykres(ciag_100,lab3_ciag_120)"
   ]
  },
  {
   "cell_type": "markdown",
   "metadata": {},
   "source": [
    "Wykresy rozkładu wartości dla większych prób są bliższe kształtem do krzywej dzwonowej. "
   ]
  },
  {
   "cell_type": "markdown",
   "metadata": {},
   "source": [
    "### e)"
   ]
  },
  {
   "cell_type": "markdown",
   "metadata": {},
   "source": [
    "Pierwszym krokiem jaki wykonamy jest sprawdzenie czy próby są rozkładami normalnymi.\n",
    "\n",
    "> H0: Próba ma rozkład normalny\n",
    "\n",
    "> HA: Próba nie ma rozkładu normalnego\n",
    "\n",
    "Użyjemy do tego testu Shapiro-Wilka, ponieważ próba spełania warunki:\n",
    "- losowości próby\n",
    "- wielkość próby poniżej 2000"
   ]
  },
  {
   "cell_type": "code",
   "execution_count": 707,
   "metadata": {},
   "outputs": [
    {
     "name": "stdout",
     "output_type": "stream",
     "text": [
      "ShapiroResult(statistic=0.9678540825843811, pvalue=0.7090715765953064)\n",
      "ShapiroResult(statistic=0.9772700667381287, pvalue=0.08128704875707626)\n"
     ]
    }
   ],
   "source": [
    "print(shapiro(ciag_20))\n",
    "print(shapiro(ciag_100))"
   ]
  },
  {
   "cell_type": "markdown",
   "metadata": {},
   "source": [
    "Ciąg 20:\n",
    ">Statystyka Shapiro-Wilka: 0.968\n",
    "\n",
    ">Wartość p: 0.709\n",
    "\n",
    ">Interpretacja: Wartość p jest znacznie większa od typowego poziomu istotności 0.05, co oznacza, że nie mamy podstaw do odrzucenia hipotezy zerowej. Rozkład jest normalny.\n",
    "\n",
    "\n",
    "\n",
    "Ciąg 100:\n",
    ">Statystyka Shapiro-Wilka: 0.977\n",
    "\n",
    ">Wartość p: 0.081\n",
    "\n",
    ">Interpretacja: Wartość p dla ciągu 100 elementów jest większa od 0.05, co oznacza brak podstaw do odrzucenia hipotezy zerowej. Rozkaład próby jest rozkładem normalnym."
   ]
  },
  {
   "cell_type": "markdown",
   "metadata": {},
   "source": [
    "Sprawdzamy teraz czy średnie z prób są równe 0,5.\n",
    "\n",
    "> H0: Średnia z próby jest równa 0,5.\n",
    "\n",
    "> HA: Średnia z próby jest różna od 0,5.\n",
    "\n",
    "Dla sprawdzenia tej hipotezy użyjemy testu t-studenta, ponieważ próba spełnia warunki:\n",
    "- normalność rozkładu\n",
    "- losowość próby\n",
    "- niezależnosć wyników\n",
    "\n",
    "alfa = 5%"
   ]
  },
  {
   "cell_type": "code",
   "execution_count": 708,
   "metadata": {},
   "outputs": [],
   "source": [
    "def t_test(sequence, expected_mean=0.5):\n",
    "    sample_mean = np.mean(sequence)\n",
    "    sample_std = np.std(sequence, ddof=1)\n",
    "    n = len(sequence)\n",
    "    \n",
    "    \n",
    "    t_stat = (sample_mean - expected_mean) / (sample_std / (n**(1/2)))\n",
    "    p_value = 2 * stats.t.sf(np.abs(t_stat), n-1)\n",
    "    \n",
    "    return t_stat,p_value\n",
    "\n",
    "t_stat_20, p_value_20 = t_test(ciag_20)\n",
    "t_stat_100, p_value_100 = t_test(ciag_100)"
   ]
  },
  {
   "cell_type": "code",
   "execution_count": 709,
   "metadata": {},
   "outputs": [],
   "source": [
    "v_20 = 2.086\n",
    "v_100 = 1.984\n",
    "alfa = 0.05\n",
    "\n",
    "def decision(t,p,v,n):\n",
    "    if abs(t) < abs(v) and p > alfa:\n",
    "        print(f'Nie mamy podstaw by odrzucić hipotezę zerowową. Średnia z próby {n} jest równa 0.5')\n",
    "    else:\n",
    "        print(f'Odrzucamy hipotezę zerową. Zatem przyjmujemy hipotezę alternatywną. Średnia z próby {n} nie jest równa 0.5')"
   ]
  },
  {
   "cell_type": "code",
   "execution_count": 710,
   "metadata": {},
   "outputs": [
    {
     "name": "stdout",
     "output_type": "stream",
     "text": [
      "Nie mamy podstaw by odrzucić hipotezę zerowową. Średnia z próby 20 jest równa 0.5\n",
      "Nie mamy podstaw by odrzucić hipotezę zerowową. Średnia z próby 100 jest równa 0.5\n"
     ]
    }
   ],
   "source": [
    "decision(t_stat_20,p_value_20,v_20,20)\n",
    "decision(t_stat_100,p_value_100,v_100,100)"
   ]
  },
  {
   "cell_type": "markdown",
   "metadata": {},
   "source": [
    "Sprawdzenie czy średnie odpowiednich prób uzyskanych w zad. b) tej listy oraz zad. a) Listy 3 są równe.\n",
    "\n",
    "> H0: Średnie prób uzyskanych w zad. b) tej listy oraz zad. a) Listy 3 są równe.\n",
    "\n",
    "> HA: Średni prób uzyskanych w zad. b) tej listy oraz zad. a) Listy 3 nie są równe.\n",
    "\n",
    "Użyjemy do tego testu t-studenta dla dwóch niezależnych prób.\n",
    "\n",
    "Wymagania:\n",
    "- próby muszą miec rozkład normalny\n",
    "- próby muszą być równoliczne\n",
    "- muszą mieć stwierdzone czy ich wariancje są równe\n",
    "\n",
    "W naszym przypadku wariancje są równe.\n",
    "\n",
    "Próby nie są równoliczne, ale ponieważ wariancje są równe, to możemy wykonać test statystyczny."
   ]
  },
  {
   "cell_type": "code",
   "execution_count": 711,
   "metadata": {},
   "outputs": [],
   "source": [
    "def porownaj_srednie(proba1, proba2):\n",
    "    \n",
    "\n",
    "    mean1, mean2 = sum(proba1) / len(proba1), sum(proba2) / len(proba2)\n",
    "    var1, var2 = sum((x - mean1) ** 2 for x in proba1) / (len(proba1) - 1), sum((x - mean2) ** 2 for x in proba2) / (len(proba2) - 1)\n",
    "    pooled_var = ((len(proba1) - 1) * var1 + (len(proba2) - 1) * var2) / (len(proba1) + len(proba2) - 2)\n",
    "    \n",
    "    \n",
    "    t_stat = (mean1 - mean2) / ((pooled_var * (1 / len(proba1) + 1 / len(proba2)))**(1/2))\n",
    "    \n",
    "    \n",
    "    df = len(proba1) + len(proba2) - 2\n",
    "    p_value = 2 * (1 - stats.t.cdf(abs(t_stat), df))\n",
    "\n",
    "    return t_stat, p_value"
   ]
  },
  {
   "cell_type": "code",
   "execution_count": 712,
   "metadata": {},
   "outputs": [
    {
     "name": "stdout",
     "output_type": "stream",
     "text": [
      "(-0.6918499071166521, 0.4938709429643098)\n",
      "(0.3236805312384254, 0.7464902174910799)\n"
     ]
    }
   ],
   "source": [
    "t_stat_20, p_value_20 = porownaj_srednie(ciag_20,lab3_ciag_15)\n",
    "t_stat_100, p_value_100 = porownaj_srednie(ciag_100,lab3_ciag_120)\n",
    "\n",
    "print(porownaj_srednie(ciag_20,lab3_ciag_15))\n",
    "print(porownaj_srednie(ciag_100,lab3_ciag_120))"
   ]
  },
  {
   "cell_type": "code",
   "execution_count": 713,
   "metadata": {},
   "outputs": [],
   "source": [
    "v_35 = 2.03\n",
    "v_220 = 1.97\n",
    "\n",
    "\n",
    "def decision(t,p,v):\n",
    "    if abs(t) < abs(v) and p > alfa:\n",
    "        print(f'Nie mamy podstaw by odrzucić hipotezę zerowową. Średnie z prób z laboratoriów są równe')\n",
    "    else:\n",
    "        print(f'Odrzucamy hipotezę zerową. Zatem przyjmujemy hipotezę alternatywną. Średnie z prób z laboratoriów nie są równe')"
   ]
  },
  {
   "cell_type": "code",
   "execution_count": 714,
   "metadata": {},
   "outputs": [
    {
     "name": "stdout",
     "output_type": "stream",
     "text": [
      "Nie mamy podstaw by odrzucić hipotezę zerowową. Średnia z prób z laboratoriów są równe\n",
      "Nie mamy podstaw by odrzucić hipotezę zerowową. Średnia z prób z laboratoriów są równe\n"
     ]
    }
   ],
   "source": [
    "decision(t_stat_20,p_value_20,v_35)\n",
    "decision(t_stat_100,p_value_100,v_220)"
   ]
  }
 ],
 "metadata": {
  "kernelspec": {
   "display_name": "Python 3",
   "language": "python",
   "name": "python3"
  },
  "language_info": {
   "codemirror_mode": {
    "name": "ipython",
    "version": 3
   },
   "file_extension": ".py",
   "mimetype": "text/x-python",
   "name": "python",
   "nbconvert_exporter": "python",
   "pygments_lexer": "ipython3",
   "version": "3.10.11"
  }
 },
 "nbformat": 4,
 "nbformat_minor": 2
}
