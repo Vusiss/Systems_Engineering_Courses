{
 "cells": [
  {
   "cell_type": "code",
   "execution_count": 579,
   "metadata": {},
   "outputs": [],
   "source": [
    "import numpy as np\n",
    "import scipy.stats as stats\n",
    "import matplotlib.pyplot as plt\n",
    "import statistics\n",
    "import pandas as pd\n",
    "from scipy.stats import shapiro"
   ]
  },
  {
   "cell_type": "markdown",
   "metadata": {},
   "source": [
    "### a)"
   ]
  },
  {
   "cell_type": "code",
   "execution_count": 580,
   "metadata": {},
   "outputs": [],
   "source": [
    "class RandomGenerator:\n",
    "    def __init__(self, x0=1):\n",
    "        self.x = x0  \n",
    "        self.a = 156765765\n",
    "        self.c = 3097687\n",
    "        self.m = 77888\n",
    "\n",
    "    def losowa(self):\n",
    "        self.x = (self.a * self.x + self.c) % self.m\n",
    "        return (self.x / self.m) * 2 - 1\n",
    "\n",
    "    def generuj(self, n):\n",
    "        return [self.losowa() for _ in range(n)]\n",
    "\n"
   ]
  },
  {
   "cell_type": "markdown",
   "metadata": {},
   "source": [
    "### b)"
   ]
  },
  {
   "cell_type": "code",
   "execution_count": 581,
   "metadata": {},
   "outputs": [],
   "source": [
    "generator = RandomGenerator()\n",
    "\n",
    "ciag_15 = generator.generuj(15)\n",
    "ciag_120= generator.generuj(120)\n",
    "\n",
    "# Ciągi z laboratoriów nr 2\n",
    "lab2_ciag_15 = np.random.uniform(-1, 1, 15)\n",
    "lab2_ciag_120 = np.random.uniform(-1, 1, 120)"
   ]
  },
  {
   "cell_type": "markdown",
   "metadata": {},
   "source": [
    "### c)"
   ]
  },
  {
   "cell_type": "code",
   "execution_count": 582,
   "metadata": {},
   "outputs": [],
   "source": [
    "wartości = [ \"Średnia\",\n",
    "        \"Mediana\",\n",
    "        \"Moda\",\n",
    "        \"Odchylenie standardowe\",\n",
    "        \"Wariancja\",\n",
    "        \"Skośność\",\n",
    "        \"Kurtoza\",\n",
    "        \"Pierwszy Kwantyl\"]\n",
    "\n",
    "def podaj_wartości_statystyczne(seq):\n",
    "     \n",
    "    return {\n",
    "        \n",
    "        \"Średnia\": np.mean(seq),\n",
    "        \"Mediana\": np.median(seq),\n",
    "        \"Moda\": statistics.mode(seq) if len(set(seq)) < len(seq) else \"ND\", # W przypadku tego zadania zwykle kazda wartość jest modą, bo sznasa na powtórzenie się liczb jest bardzo mała\n",
    "        \"Odchylenie standardowe\": np.std(seq, ddof=1),\n",
    "        \"Wariancja\": np.var(seq, ddof=1),\n",
    "        \"Skośność\": stats.skew(seq),\n",
    "        \"Kurtoza\": stats.kurtosis(seq),\n",
    "        \"Pierwszy Kwantyl\": np.percentile(seq, 25)\n",
    "        \n",
    "    }"
   ]
  },
  {
   "cell_type": "code",
   "execution_count": 583,
   "metadata": {},
   "outputs": [],
   "source": [
    "statystyki_15 = podaj_wartości_statystyczne(ciag_15)\n",
    "statystyki_120 = podaj_wartości_statystyczne(ciag_120)\n",
    "lab2_statystyki_15 = podaj_wartości_statystyczne(lab2_ciag_15)\n",
    "lab2_statystyki_120 = podaj_wartości_statystyczne(lab2_ciag_120)\n",
    "\n",
    "statystyki_rownomierny = {\n",
    "    \"Średnia\": 0.0,\n",
    "    \"Mediana\": 0.0,\n",
    "    \"Moda\": 'ND',  \n",
    "    \"Odchylenie standardowe\": 0.5774,\n",
    "    \"Wariancja\": 0.3333,\n",
    "    \"Skośność\": 0,\n",
    "    \"Kurtoza\": 1.8,\n",
    "    \"Pierwszy Kwantyl\": -0.5\n",
    "}"
   ]
  },
  {
   "cell_type": "code",
   "execution_count": 584,
   "metadata": {},
   "outputs": [
    {
     "data": {
      "text/html": [
       "<div>\n",
       "<style scoped>\n",
       "    .dataframe tbody tr th:only-of-type {\n",
       "        vertical-align: middle;\n",
       "    }\n",
       "\n",
       "    .dataframe tbody tr th {\n",
       "        vertical-align: top;\n",
       "    }\n",
       "\n",
       "    .dataframe thead th {\n",
       "        text-align: right;\n",
       "    }\n",
       "</style>\n",
       "<table border=\"1\" class=\"dataframe\">\n",
       "  <thead>\n",
       "    <tr style=\"text-align: right;\">\n",
       "      <th></th>\n",
       "      <th>Średnia</th>\n",
       "      <th>Mediana</th>\n",
       "      <th>Moda</th>\n",
       "      <th>Odchylenie standardowe</th>\n",
       "      <th>Wariancja</th>\n",
       "      <th>Skośność</th>\n",
       "      <th>Kurtoza</th>\n",
       "      <th>Pierwszy Kwantyl</th>\n",
       "    </tr>\n",
       "  </thead>\n",
       "  <tbody>\n",
       "    <tr>\n",
       "      <th>ciąg 15</th>\n",
       "      <td>0.010447</td>\n",
       "      <td>-0.045553</td>\n",
       "      <td>ND</td>\n",
       "      <td>0.697391</td>\n",
       "      <td>0.486355</td>\n",
       "      <td>0.160614</td>\n",
       "      <td>-1.607247</td>\n",
       "      <td>-0.591580</td>\n",
       "    </tr>\n",
       "    <tr>\n",
       "      <th>ciąg 120</th>\n",
       "      <td>0.053657</td>\n",
       "      <td>0.000026</td>\n",
       "      <td>-0.815504</td>\n",
       "      <td>0.583673</td>\n",
       "      <td>0.340675</td>\n",
       "      <td>-0.048802</td>\n",
       "      <td>-1.106294</td>\n",
       "      <td>-0.344906</td>\n",
       "    </tr>\n",
       "    <tr>\n",
       "      <th>Lab nr 2 ciąg 15</th>\n",
       "      <td>0.225332</td>\n",
       "      <td>0.235193</td>\n",
       "      <td>ND</td>\n",
       "      <td>0.646448</td>\n",
       "      <td>0.417895</td>\n",
       "      <td>-0.520474</td>\n",
       "      <td>-0.957885</td>\n",
       "      <td>-0.094419</td>\n",
       "    </tr>\n",
       "    <tr>\n",
       "      <th>Lab nr 2 ciąg 120</th>\n",
       "      <td>0.072199</td>\n",
       "      <td>0.165348</td>\n",
       "      <td>ND</td>\n",
       "      <td>0.618684</td>\n",
       "      <td>0.382770</td>\n",
       "      <td>-0.195934</td>\n",
       "      <td>-1.319227</td>\n",
       "      <td>-0.474277</td>\n",
       "    </tr>\n",
       "    <tr>\n",
       "      <th>rozkłąd równomierny</th>\n",
       "      <td>0.000000</td>\n",
       "      <td>0.000000</td>\n",
       "      <td>ND</td>\n",
       "      <td>0.577400</td>\n",
       "      <td>0.333300</td>\n",
       "      <td>0.000000</td>\n",
       "      <td>1.800000</td>\n",
       "      <td>-0.500000</td>\n",
       "    </tr>\n",
       "  </tbody>\n",
       "</table>\n",
       "</div>"
      ],
      "text/plain": [
       "                      Średnia   Mediana      Moda  Odchylenie standardowe  \\\n",
       "ciąg 15              0.010447 -0.045553        ND                0.697391   \n",
       "ciąg 120             0.053657  0.000026 -0.815504                0.583673   \n",
       "Lab nr 2 ciąg 15     0.225332  0.235193        ND                0.646448   \n",
       "Lab nr 2 ciąg 120    0.072199  0.165348        ND                0.618684   \n",
       "rozkłąd równomierny  0.000000  0.000000        ND                0.577400   \n",
       "\n",
       "                     Wariancja  Skośność   Kurtoza  Pierwszy Kwantyl  \n",
       "ciąg 15               0.486355  0.160614 -1.607247         -0.591580  \n",
       "ciąg 120              0.340675 -0.048802 -1.106294         -0.344906  \n",
       "Lab nr 2 ciąg 15      0.417895 -0.520474 -0.957885         -0.094419  \n",
       "Lab nr 2 ciąg 120     0.382770 -0.195934 -1.319227         -0.474277  \n",
       "rozkłąd równomierny   0.333300  0.000000  1.800000         -0.500000  "
      ]
     },
     "execution_count": 584,
     "metadata": {},
     "output_type": "execute_result"
    }
   ],
   "source": [
    "tab = pd.DataFrame([statystyki_15,statystyki_120,lab2_statystyki_15,lab2_statystyki_120, statystyki_rownomierny],index=['ciąg 15','ciąg 120', 'Lab nr 2 ciąg 15', 'Lab nr 2 ciąg 120','rozkłąd równomierny'])\n",
    "tab"
   ]
  },
  {
   "cell_type": "markdown",
   "metadata": {},
   "source": [
    "Ciągi 15-elementowe mają większą zmienność niż ciągi 120-elementowe, co widać po wyższym odchyleniu standardowym i wariancji. Ciągi z Lab nr 2 cechują się lekko przesuniętą średnią, podczas gdy wartości dla rozkładu równomiernego są bardziej symetryczne."
   ]
  },
  {
   "cell_type": "markdown",
   "metadata": {},
   "source": [
    "### d)"
   ]
  },
  {
   "cell_type": "code",
   "execution_count": 585,
   "metadata": {},
   "outputs": [],
   "source": [
    "def uniform_pdf(x, a, b):\n",
    "    if a < x < b:\n",
    "        return 1 / (b - a)\n",
    "    else:\n",
    "        return 0\n",
    "\n",
    "a = -1 \n",
    "b = 1  \n",
    "x = np.linspace(a, b, 1000)\n",
    "y = np.array([uniform_pdf(xi, a, b) for xi in x])\n",
    "\n",
    "\n",
    "def nakreśl_wykres(sequence, title, Lab2_sequence):\n",
    "    fig, (ax1,ax3,ax2) = plt.subplots(1,3, figsize = (15,5))\n",
    "\n",
    "    ax1.set_title(f\"Laboratorium nr 4\")\n",
    "    ax1.set_xlabel('wartość')\n",
    "    ax1.set_ylabel('gęstość')\n",
    "    ax1.set_ylim(0,3)\n",
    "    ax1.set_xlim(-1,1)\n",
    "    ax1.hist(sequence, bins=10, density=True, alpha=0.6, color='g',edgecolor='black')\n",
    "    \n",
    "    ax2.hist(x, bins=10, density=True, alpha=0.6, color='g',edgecolor='black')\n",
    "    ax2.set_title('rozkład równomierny')\n",
    "    ax2.set_xlabel('wartość')\n",
    "    ax2.set_ylabel('gęstość')\n",
    "    ax2.set_ylim(0,3)\n",
    "    \n",
    "    ax3.set_title(\"Laboratorium nr 2\")\n",
    "    ax3.set_xlabel('wartość')\n",
    "    ax3.set_ylabel('gęstość')\n",
    "    ax3.set_ylim(0,3)\n",
    "    ax3.set_xlim(-1,1)\n",
    "    ax3.hist(Lab2_sequence, bins=10, density=True, alpha=0.6, color='g',edgecolor='black')\n",
    "    plt.show()"
   ]
  },
  {
   "cell_type": "code",
   "execution_count": 586,
   "metadata": {},
   "outputs": [
    {
     "data": {
      "image/png": "[encoded data removed]",
      "text/plain": [
       "<Figure size 1500x500 with 3 Axes>"
      ]
     },
     "metadata": {},
     "output_type": "display_data"
    },
    {
     "data": {
      "image/png": "[encoded data removed]",
      "text/plain": [
       "<Figure size 1500x500 with 3 Axes>"
      ]
     },
     "metadata": {},
     "output_type": "display_data"
    }
   ],
   "source": [
    "nakreśl_wykres(ciag_15, \"Sequence of 15\",lab2_ciag_15)\n",
    "nakreśl_wykres(ciag_120, \"Sequence of 120\",lab2_ciag_120)"
   ]
  },
  {
   "cell_type": "markdown",
   "metadata": {},
   "source": [
    "Wykresy dla większej próby (120) są w soim kształcie znacznie bliższe rozkładowi równomiernemu. W szcególności mniejsza próba (15) z laboratorium nr 4 odbiega od referencji poprzez rozrzucenie wartości na krańcach wykresu. Co ciekawe względna symetria jaką posiada ten wykres może doprowadzać do otrzymania przez nas wartości średniej, odchylenia standardowego itp. które wskazują na to, że rozkłąd jest równomierny."
   ]
  },
  {
   "cell_type": "markdown",
   "metadata": {},
   "source": [
    "### e)"
   ]
  },
  {
   "cell_type": "markdown",
   "metadata": {},
   "source": [
    "Pierwszym krokiem jaki wykonamy jest sprawdzenie czy próby są rozkładami normalnymi.\n",
    "\n",
    "> H0: Próba ma rozkład normalny\n",
    "\n",
    "> HA: Próba nie ma rozkładu normalnego\n",
    "\n",
    "Użyjemy do tego testu Shapiro-Wilka, ponieważ próba spełania warunki:\n",
    "- losowości próby\n",
    "- wielkość próby poniżej 2000"
   ]
  },
  {
   "cell_type": "code",
   "execution_count": 587,
   "metadata": {},
   "outputs": [
    {
     "name": "stdout",
     "output_type": "stream",
     "text": [
      "ShapiroResult(statistic=0.8544211387634277, pvalue=0.0200701542198658)\n",
      "ShapiroResult(statistic=0.9503128528594971, pvalue=0.00022780682775191963)\n",
      "ShapiroResult(statistic=0.954807698726654, pvalue=5.385439779982027e-17)\n"
     ]
    }
   ],
   "source": [
    "print(shapiro(ciag_15))\n",
    "print(shapiro(ciag_120))\n",
    "print(shapiro(x))"
   ]
  },
  {
   "cell_type": "markdown",
   "metadata": {},
   "source": [
    "Ciąg 15:\n",
    ">Statystyka Shapiro-Wilka: 0.854\n",
    "\n",
    ">Wartość p: 0.020\n",
    "\n",
    ">Interpretacja: Wartość p jest mniejsza od typowego poziomu istotności 0.05, co oznacza, że  mamy podstawy do odrzucenia hipotezy zerowej. Rozkład nie jest normalny.\n",
    "\n",
    "\n",
    "\n",
    "Ciąg 120:\n",
    ">Statystyka Shapiro-Wilka: 0.950\n",
    "\n",
    ">Wartość p: 0.0002\n",
    "\n",
    ">Interpretacja: Wartość p dla ciągu 120 elementów jest mniejsza od 0.05, co oznacza istnienie podstaw do odrzucenia hipotezy zerowej. Przyjmujemy hipotezę alternatywną. Rozkaład próby nie jest rozkładem normalnym."
   ]
  },
  {
   "cell_type": "markdown",
   "metadata": {},
   "source": [
    "Wymagania testu t-studenta:\n",
    "- używany do porównymania dwóch prób w rozkłądnie normalnym\n",
    "- wykorzystywany zarówno do duzych jak małych prób\n",
    "- losowość prób\n",
    "- niezalezność prób\n",
    "\n",
    "Obie próby są rozkładami równomienymi, ale łatwo zauwazyć, ze zgodnie z centralnym twierdzeniem granicznym ich średnie zbiegają do rozkłądu normalnego. Z tego powodu uzyjemy testu t-studenta.\n",
    "\n",
    "Tezy:\n",
    "> H0: Średnie z prób są równe 0. \n",
    "\n",
    "> HA: Średnie z prób nie są równe 0.\n",
    "\n",
    "alfa = 5%\n"
   ]
  },
  {
   "cell_type": "code",
   "execution_count": 588,
   "metadata": {},
   "outputs": [],
   "source": [
    "def t_test(sequence, expected_mean=0):\n",
    "    sample_mean = np.mean(sequence)\n",
    "    sample_std = np.std(sequence, ddof=1)\n",
    "    n = len(sequence)\n",
    "    \n",
    "    \n",
    "    t_stat = (sample_mean - expected_mean) / (sample_std / np.sqrt(n))\n",
    "    p_value = 2 * stats.t.sf(np.abs(t_stat), n-1)\n",
    "    \n",
    "    return t_stat,p_value\n",
    "\n",
    "t_stat_15, p_value_15 = t_test(ciag_15)\n",
    "t_stat_120, p_value_120 = t_test(ciag_120)"
   ]
  },
  {
   "cell_type": "code",
   "execution_count": 589,
   "metadata": {},
   "outputs": [
    {
     "name": "stdout",
     "output_type": "stream",
     "text": [
      "dla próby 15:\n",
      "statystyka t: 0.058\n",
      "wartość p: 0.955\n",
      "\n",
      "dla próby 120:\n",
      "statystyka t: 1.007\n",
      "wartość p: 0.316\n"
     ]
    }
   ],
   "source": [
    "print(f\"dla próby 15:\\nstatystyka t: {t_stat_15:.3f}\\nwartość p: {p_value_15:.3f}\\n\")\n",
    "print(f\"dla próby 120:\\nstatystyka t: {t_stat_120:.3f}\\nwartość p: {p_value_120:.3f}\")"
   ]
  },
  {
   "cell_type": "markdown",
   "metadata": {},
   "source": [
    "Wartość krytyczna dla alfa = 5%, df = 14: 2,1448\n",
    "\n",
    "Wartość krytyczna dla alfa = 5%, df = 119: 1,9801"
   ]
  },
  {
   "cell_type": "code",
   "execution_count": 590,
   "metadata": {},
   "outputs": [],
   "source": [
    "v_15 = 2.1448\n",
    "v_120 = 1.9801\n",
    "alfa = 0.05\n",
    "\n",
    "def decision(tp,v,n):\n",
    "    t,p = tp\n",
    "    if abs(t) < abs(v) and p > alfa:\n",
    "        return f'Nie mamy podstaw by odrzucić hipotezę zerowową. Średnia z próby {n} jest równa 0'\n",
    "    else:\n",
    "        return f'Odrzucamy hipotezę zerową. Zatem przyjmujemy hipotezę alternatywną. Średnia z próby {n} nie jest równa 0'"
   ]
  },
  {
   "cell_type": "code",
   "execution_count": 591,
   "metadata": {},
   "outputs": [
    {
     "name": "stdout",
     "output_type": "stream",
     "text": [
      "Nie mamy podstaw by odrzucić hipotezę zerowową. Średnia z próby 15 jest równa 0\n",
      "Nie mamy podstaw by odrzucić hipotezę zerowową. Średnia z próby 120 jest równa 0\n"
     ]
    }
   ],
   "source": [
    "print(decision((t_stat_15,p_value_15),v_15,15))\n",
    "print(decision((t_stat_120,p_value_120),v_120,120))"
   ]
  },
  {
   "cell_type": "markdown",
   "metadata": {},
   "source": [
    "Sprawdzenie czy średnieodpowiednich prób uzyskanych w zad. b) tej listy oraz zad. a) Listy 2 są równe.\n",
    "\n",
    "> H0: Średnie prób uzyskanych w zad. b) tej listy oraz zad. a) Listy 2 są równe.\n",
    "\n",
    "> HA: Średni prób uzyskanych w zad. b) tej listy oraz zad. a) Listy 2 nie są równe.\n",
    "\n",
    "Użyjemy do tego testu t-studenta dla dwóch niezależnych prób.\n",
    "\n",
    "Wymagania:\n",
    "- próby muszą miec rozkład normalny \n",
    "- próby muszą być równoliczne\n",
    "- muszą mieć stwierdzone czy ich wariancje są równe\n",
    "\n",
    "W naszym przypadku wariancje są równe.\n",
    "Obie próby są rozkładami równomiernego, ale zgodnie z centralnym twierdzeniem granicznym ich średnie zbiegają do rozkładu normalnego. Z tego powodu możemy użyć testu t-studena\n",
    "\n"
   ]
  },
  {
   "cell_type": "code",
   "execution_count": 592,
   "metadata": {},
   "outputs": [],
   "source": [
    "def porownaj_srednie(proba1, proba2):\n",
    "    \n",
    "\n",
    "    mean1, mean2 = sum(proba1) / len(proba1), sum(proba2) / len(proba2)\n",
    "    var1, var2 = sum((x - mean1) ** 2 for x in proba1) / (len(proba1) - 1), sum((x - mean2) ** 2 for x in proba2) / (len(proba2) - 1)\n",
    "    pooled_var = ((len(proba1) - 1) * var1 + (len(proba2) - 1) * var2) / (len(proba1) + len(proba2) - 2)\n",
    "    \n",
    "    \n",
    "    t_stat = (mean1 - mean2) / ((pooled_var * (1 / len(proba1) + 1 / len(proba2)))**(1/2))\n",
    "    \n",
    "    \n",
    "    df = len(proba1) + len(proba2) - 2\n",
    "    p_value = 2 * (1 - stats.t.cdf(abs(t_stat), df))\n",
    "\n",
    "    return t_stat, p_value"
   ]
  },
  {
   "cell_type": "code",
   "execution_count": 593,
   "metadata": {},
   "outputs": [
    {
     "name": "stdout",
     "output_type": "stream",
     "text": [
      "(-0.8751981512830256, 0.3889121242613265)\n",
      "(-0.2387941744575205, 0.8114706772250646)\n"
     ]
    }
   ],
   "source": [
    "t_stat_15, p_value_15 = porownaj_srednie(ciag_15,lab2_ciag_15)\n",
    "t_stat_120, p_value_120 = porownaj_srednie(ciag_120,lab2_ciag_120)\n",
    "\n",
    "print(porownaj_srednie(ciag_15,lab2_ciag_15))\n",
    "print(porownaj_srednie(ciag_120,lab2_ciag_120))"
   ]
  },
  {
   "cell_type": "code",
   "execution_count": 594,
   "metadata": {},
   "outputs": [],
   "source": [
    "def decision(t,p,v,n):\n",
    "    if abs(t) < abs(v) and p > alfa:\n",
    "        return f'Nie mamy podstaw by odrzucić hipotezę zerowową. Średnia z próby {n} jest równa dla generatora z listy nr 2 i listy nr 4'\n",
    "    else:\n",
    "        return f'Odrzucamy hipotezę zerową. Zatem przyjmujemy hipotezę alternatywną. Średnia z próby {n} nie jest równa dla generatora z listy nr 2 i listy nr 4'"
   ]
  },
  {
   "cell_type": "code",
   "execution_count": 595,
   "metadata": {},
   "outputs": [
    {
     "name": "stdout",
     "output_type": "stream",
     "text": [
      "Nie mamy podstaw by odrzucić hipotezę zerowową. Średnia z próby 15 jest równa dla generatora z listy nr 2 i listy nr 4\n",
      "Nie mamy podstaw by odrzucić hipotezę zerowową. Średnia z próby 120 jest równa dla generatora z listy nr 2 i listy nr 4\n"
     ]
    }
   ],
   "source": [
    "print(decision(t_stat_15, p_value_15,v_15,15))\n",
    "print(decision(t_stat_120, p_value_120,v_120,120))"
   ]
  }
 ],
 "metadata": {
  "kernelspec": {
   "display_name": "Python 3",
   "language": "python",
   "name": "python3"
  },
  "language_info": {
   "codemirror_mode": {
    "name": "ipython",
    "version": 3
   },
   "file_extension": ".py",
   "mimetype": "text/x-python",
   "name": "python",
   "nbconvert_exporter": "python",
   "pygments_lexer": "ipython3",
   "version": "3.10.11"
  }
 },
 "nbformat": 4,
 "nbformat_minor": 2
}
