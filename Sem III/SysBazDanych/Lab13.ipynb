{
 "cells": [
  {
   "cell_type": "code",
   "execution_count": 73,
   "metadata": {},
   "outputs": [],
   "source": [
    "import mysql.connector\n",
    "import matplotlib.pyplot as plt"
   ]
  },
  {
   "cell_type": "code",
   "execution_count": 66,
   "metadata": {},
   "outputs": [],
   "source": [
    "# Ustawienia połączenia\n",
    "config = {\n",
    "'user': 'new_user',\n",
    "'password': 'new_password',\n",
    "'host': 'localhost',\n",
    "'database': 'MojaBazaDanych',\n",
    "'port': 3306, # Domyślnie 3306, MySQL miniserver port 3311\n",
    "'charset': 'utf8', # Jeżeli potrzebne, zmień na obsługiwany zestaw znaków\n",
    "'raise_on_warnings': True\n",
    "}\n",
    "# Utworzenie połączenia\n",
    "conn = mysql.connector.connect(**config)\n",
    "# Utworzenie obiektu kursora\n",
    "cursor = conn.cursor()\n",
    "# Przykładowe zapytanie\n",
    "cursor.execute(\"SELECT * FROM MojaTabela\")\n",
    "# Pobranie wyników\n",
    "\n",
    "result = cursor.fetchall()\n",
    "# Wyświetlenie wyników\n",
    "for row in result:\n",
    "    print(row)"
   ]
  },
  {
   "cell_type": "code",
   "execution_count": 67,
   "metadata": {},
   "outputs": [],
   "source": [
    "# Utworzenie tabeli w bazie danych\n",
    "create_table_query = \"\"\"\n",
    "CREATE TABLE Osoby (\n",
    "id INT AUTO_INCREMENT PRIMARY KEY,\n",
    "imie VARCHAR(50) NOT NULL,\n",
    "nazwisko VARCHAR(50) NOT NULL,\n",
    "wiek INT\n",
    ")\n",
    "\"\"\"\n",
    "cursor.execute(create_table_query)\n",
    "conn.commit()"
   ]
  },
  {
   "cell_type": "code",
   "execution_count": 68,
   "metadata": {},
   "outputs": [],
   "source": [
    "# Dodawanie rekordu\n",
    "insert_query = \"INSERT INTO Osoby (imie, nazwisko, wiek) VALUES (%s, %s,%s)\"\n",
    "values = (\"Jan\", \"Kowalski\", 22)\n",
    "cursor.execute(insert_query, values)\n",
    "conn.commit()"
   ]
  },
  {
   "cell_type": "code",
   "execution_count": 69,
   "metadata": {},
   "outputs": [],
   "source": [
    "# Aktualizacja rekordu\n",
    "update_query = \"UPDATE Osoby SET wiek = %s WHERE imie = %s\"\n",
    "new_age = 23\n",
    "name_to_update = \"Jan\"\n",
    "cursor.execute(update_query, (new_age, name_to_update))\n",
    "conn.commit()"
   ]
  },
  {
   "cell_type": "code",
   "execution_count": 70,
   "metadata": {},
   "outputs": [],
   "source": [
    "# Usuwanie rekordu\n",
    "delete_query = \"DELETE FROM Osoby WHERE nazwisko = %s\"\n",
    "surname_to_delete = \"Kowalski\"\n",
    "cursor.execute(delete_query, (surname_to_delete,))\n",
    "conn.commit()"
   ]
  },
  {
   "cell_type": "markdown",
   "metadata": {},
   "source": [
    "24."
   ]
  },
  {
   "cell_type": "code",
   "execution_count": 71,
   "metadata": {},
   "outputs": [
    {
     "ename": "DatabaseError",
     "evalue": "1050: Table 'Produkty' already exists",
     "output_type": "error",
     "traceback": [
      "\u001b[0;31m---------------------------------------------------------------------------\u001b[0m",
      "\u001b[0;31mDatabaseError\u001b[0m                             Traceback (most recent call last)",
      "Cell \u001b[0;32mIn[71], line 1\u001b[0m\n\u001b[0;32m----> 1\u001b[0m \u001b[43mcursor\u001b[49m\u001b[38;5;241;43m.\u001b[39;49m\u001b[43mexecute\u001b[49m\u001b[43m(\u001b[49m\u001b[38;5;124;43m\"\"\"\u001b[39;49m\n\u001b[1;32m      2\u001b[0m \u001b[38;5;124;43m    CREATE TABLE IF NOT EXISTS Produkty (\u001b[39;49m\n\u001b[1;32m      3\u001b[0m \u001b[38;5;124;43m        id_produktu INT AUTO_INCREMENT PRIMARY KEY,\u001b[39;49m\n\u001b[1;32m      4\u001b[0m \u001b[38;5;124;43m        nazwa_produktu VARCHAR(100) NOT NULL,\u001b[39;49m\n\u001b[1;32m      5\u001b[0m \u001b[38;5;124;43m        cena DECIMAL(10, 2) NOT NULL\u001b[39;49m\n\u001b[1;32m      6\u001b[0m \u001b[38;5;124;43m    )\u001b[39;49m\n\u001b[1;32m      7\u001b[0m \u001b[38;5;124;43m    \u001b[39;49m\u001b[38;5;124;43m\"\"\"\u001b[39;49m\u001b[43m)\u001b[49m\n\u001b[1;32m      8\u001b[0m conn\u001b[38;5;241m.\u001b[39mcommit()\n",
      "File \u001b[0;32m/Library/Frameworks/Python.framework/Versions/3.10/lib/python3.10/site-packages/mysql/connector/cursor_cext.py:369\u001b[0m, in \u001b[0;36mCMySQLCursor.execute\u001b[0;34m(self, operation, params, multi)\u001b[0m\n\u001b[1;32m    364\u001b[0m     \u001b[38;5;28;01mraise\u001b[39;00m get_mysql_exception(\n\u001b[1;32m    365\u001b[0m         msg\u001b[38;5;241m=\u001b[39merr\u001b[38;5;241m.\u001b[39mmsg, errno\u001b[38;5;241m=\u001b[39merr\u001b[38;5;241m.\u001b[39merrno, sqlstate\u001b[38;5;241m=\u001b[39merr\u001b[38;5;241m.\u001b[39msqlstate\n\u001b[1;32m    366\u001b[0m     ) \u001b[38;5;28;01mfrom\u001b[39;00m \u001b[38;5;21;01merr\u001b[39;00m\n\u001b[1;32m    368\u001b[0m \u001b[38;5;28mself\u001b[39m\u001b[38;5;241m.\u001b[39m_executed \u001b[38;5;241m=\u001b[39m stmt\n\u001b[0;32m--> 369\u001b[0m \u001b[38;5;28;43mself\u001b[39;49m\u001b[38;5;241;43m.\u001b[39;49m\u001b[43m_handle_result\u001b[49m\u001b[43m(\u001b[49m\u001b[43mresult\u001b[49m\u001b[43m)\u001b[49m\n\u001b[1;32m    371\u001b[0m \u001b[38;5;28;01mif\u001b[39;00m multi:\n\u001b[1;32m    372\u001b[0m     \u001b[38;5;28;01mreturn\u001b[39;00m \u001b[38;5;28mself\u001b[39m\u001b[38;5;241m.\u001b[39m_execute_iter()\n",
      "File \u001b[0;32m/Library/Frameworks/Python.framework/Versions/3.10/lib/python3.10/site-packages/mysql/connector/cursor_cext.py:226\u001b[0m, in \u001b[0;36mCMySQLCursor._handle_result\u001b[0;34m(self, result)\u001b[0m\n\u001b[1;32m    224\u001b[0m \u001b[38;5;28mself\u001b[39m\u001b[38;5;241m.\u001b[39m_affected_rows \u001b[38;5;241m=\u001b[39m result[\u001b[38;5;124m\"\u001b[39m\u001b[38;5;124maffected_rows\u001b[39m\u001b[38;5;124m\"\u001b[39m]\n\u001b[1;32m    225\u001b[0m \u001b[38;5;28mself\u001b[39m\u001b[38;5;241m.\u001b[39m_rowcount \u001b[38;5;241m=\u001b[39m \u001b[38;5;241m-\u001b[39m\u001b[38;5;241m1\u001b[39m\n\u001b[0;32m--> 226\u001b[0m \u001b[38;5;28;43mself\u001b[39;49m\u001b[38;5;241;43m.\u001b[39;49m\u001b[43m_handle_warnings\u001b[49m\u001b[43m(\u001b[49m\u001b[43m)\u001b[49m\n",
      "File \u001b[0;32m/Library/Frameworks/Python.framework/Versions/3.10/lib/python3.10/site-packages/mysql/connector/cursor_cext.py:211\u001b[0m, in \u001b[0;36mCMySQLCursor._handle_warnings\u001b[0;34m(self)\u001b[0m\n\u001b[1;32m    207\u001b[0m err \u001b[38;5;241m=\u001b[39m get_mysql_exception(\n\u001b[1;32m    208\u001b[0m     \u001b[38;5;241m*\u001b[39m\u001b[38;5;28mself\u001b[39m\u001b[38;5;241m.\u001b[39m_warnings[\u001b[38;5;241m0\u001b[39m][\u001b[38;5;241m1\u001b[39m:\u001b[38;5;241m3\u001b[39m], warning\u001b[38;5;241m=\u001b[39m\u001b[38;5;129;01mnot\u001b[39;00m \u001b[38;5;28mself\u001b[39m\u001b[38;5;241m.\u001b[39m_connection\u001b[38;5;241m.\u001b[39mraise_on_warnings\n\u001b[1;32m    209\u001b[0m )\n\u001b[1;32m    210\u001b[0m \u001b[38;5;28;01mif\u001b[39;00m \u001b[38;5;28mself\u001b[39m\u001b[38;5;241m.\u001b[39m_connection\u001b[38;5;241m.\u001b[39mraise_on_warnings:\n\u001b[0;32m--> 211\u001b[0m     \u001b[38;5;28;01mraise\u001b[39;00m err\n\u001b[1;32m    213\u001b[0m warnings\u001b[38;5;241m.\u001b[39mwarn(\u001b[38;5;28mstr\u001b[39m(err), stacklevel\u001b[38;5;241m=\u001b[39m\u001b[38;5;241m4\u001b[39m)\n",
      "\u001b[0;31mDatabaseError\u001b[0m: 1050: Table 'Produkty' already exists"
     ]
    }
   ],
   "source": [
    "cursor.execute(\"\"\"\n",
    "    CREATE TABLE IF NOT EXISTS Produkty (\n",
    "        id_produktu INT AUTO_INCREMENT PRIMARY KEY,\n",
    "        nazwa_produktu VARCHAR(100) NOT NULL,\n",
    "        cena DECIMAL(10, 2) NOT NULL\n",
    "    )\n",
    "    \"\"\")\n",
    "conn.commit()"
   ]
  },
  {
   "cell_type": "markdown",
   "metadata": {},
   "source": [
    "25."
   ]
  },
  {
   "cell_type": "code",
   "execution_count": 75,
   "metadata": {},
   "outputs": [],
   "source": [
    "cursor.executemany(\"\"\"\n",
    "    INSERT INTO Produkty (nazwa_produktu, cena) VALUES (%s, %s)\n",
    "    \"\"\", [\n",
    "        (\"Koszulka\", 19.99),\n",
    "        (\"Mango\", 9.50),\n",
    "        (\"Żelazko\", 105.25)\n",
    "    ])\n",
    "conn.commit()"
   ]
  },
  {
   "cell_type": "markdown",
   "metadata": {},
   "source": [
    "26."
   ]
  },
  {
   "cell_type": "code",
   "execution_count": 76,
   "metadata": {},
   "outputs": [
    {
     "name": "stdout",
     "output_type": "stream",
     "text": [
      "(12, 'Żelazko', Decimal('105.25'))\n"
     ]
    }
   ],
   "source": [
    "query = \"SELECT * FROM Produkty WHERE cena > 50\"\n",
    "cursor.execute(query)\n",
    "results = cursor.fetchall()\n",
    "for row in results:\n",
    "    print(row)"
   ]
  },
  {
   "cell_type": "markdown",
   "metadata": {},
   "source": [
    "27."
   ]
  },
  {
   "cell_type": "code",
   "execution_count": 77,
   "metadata": {},
   "outputs": [],
   "source": [
    "update_query = \"UPDATE Produkty SET cena = 15.99 WHERE nazwa_produktu = 'Produkt A'\"\n",
    "cursor.execute(update_query)\n",
    "conn.commit()"
   ]
  },
  {
   "cell_type": "markdown",
   "metadata": {},
   "source": [
    "28."
   ]
  },
  {
   "cell_type": "code",
   "execution_count": 78,
   "metadata": {},
   "outputs": [],
   "source": [
    "delete_query = \"DELETE FROM Produkty WHERE nazwa_produktu = 'Produkt C'\"\n",
    "cursor.execute(delete_query)\n",
    "conn.commit()"
   ]
  },
  {
   "cell_type": "markdown",
   "metadata": {},
   "source": [
    "29."
   ]
  },
  {
   "cell_type": "code",
   "execution_count": 79,
   "metadata": {},
   "outputs": [
    {
     "ename": "DatabaseError",
     "evalue": "1050: Table 'Zamowienia' already exists",
     "output_type": "error",
     "traceback": [
      "\u001b[0;31m---------------------------------------------------------------------------\u001b[0m",
      "\u001b[0;31mDatabaseError\u001b[0m                             Traceback (most recent call last)",
      "Cell \u001b[0;32mIn[79], line 1\u001b[0m\n\u001b[0;32m----> 1\u001b[0m \u001b[43mcursor\u001b[49m\u001b[38;5;241;43m.\u001b[39;49m\u001b[43mexecute\u001b[49m\u001b[43m(\u001b[49m\u001b[38;5;124;43m\"\"\"\u001b[39;49m\n\u001b[1;32m      2\u001b[0m \u001b[38;5;124;43m    CREATE TABLE IF NOT EXISTS Zamowienia (\u001b[39;49m\n\u001b[1;32m      3\u001b[0m \u001b[38;5;124;43m        id_zamowienia INT AUTO_INCREMENT PRIMARY KEY,\u001b[39;49m\n\u001b[1;32m      4\u001b[0m \u001b[38;5;124;43m        id_produktu INT,\u001b[39;49m\n\u001b[1;32m      5\u001b[0m \u001b[38;5;124;43m        ilosc INT NOT NULL,\u001b[39;49m\n\u001b[1;32m      6\u001b[0m \u001b[38;5;124;43m        FOREIGN KEY (id_produktu) REFERENCES Produkty(id_produktu)\u001b[39;49m\n\u001b[1;32m      7\u001b[0m \u001b[38;5;124;43m    )\u001b[39;49m\n\u001b[1;32m      8\u001b[0m \u001b[38;5;124;43m    \u001b[39;49m\u001b[38;5;124;43m\"\"\"\u001b[39;49m\u001b[43m)\u001b[49m\n\u001b[1;32m      9\u001b[0m conn\u001b[38;5;241m.\u001b[39mcommit()\n",
      "File \u001b[0;32m/Library/Frameworks/Python.framework/Versions/3.10/lib/python3.10/site-packages/mysql/connector/cursor_cext.py:369\u001b[0m, in \u001b[0;36mCMySQLCursor.execute\u001b[0;34m(self, operation, params, multi)\u001b[0m\n\u001b[1;32m    364\u001b[0m     \u001b[38;5;28;01mraise\u001b[39;00m get_mysql_exception(\n\u001b[1;32m    365\u001b[0m         msg\u001b[38;5;241m=\u001b[39merr\u001b[38;5;241m.\u001b[39mmsg, errno\u001b[38;5;241m=\u001b[39merr\u001b[38;5;241m.\u001b[39merrno, sqlstate\u001b[38;5;241m=\u001b[39merr\u001b[38;5;241m.\u001b[39msqlstate\n\u001b[1;32m    366\u001b[0m     ) \u001b[38;5;28;01mfrom\u001b[39;00m \u001b[38;5;21;01merr\u001b[39;00m\n\u001b[1;32m    368\u001b[0m \u001b[38;5;28mself\u001b[39m\u001b[38;5;241m.\u001b[39m_executed \u001b[38;5;241m=\u001b[39m stmt\n\u001b[0;32m--> 369\u001b[0m \u001b[38;5;28;43mself\u001b[39;49m\u001b[38;5;241;43m.\u001b[39;49m\u001b[43m_handle_result\u001b[49m\u001b[43m(\u001b[49m\u001b[43mresult\u001b[49m\u001b[43m)\u001b[49m\n\u001b[1;32m    371\u001b[0m \u001b[38;5;28;01mif\u001b[39;00m multi:\n\u001b[1;32m    372\u001b[0m     \u001b[38;5;28;01mreturn\u001b[39;00m \u001b[38;5;28mself\u001b[39m\u001b[38;5;241m.\u001b[39m_execute_iter()\n",
      "File \u001b[0;32m/Library/Frameworks/Python.framework/Versions/3.10/lib/python3.10/site-packages/mysql/connector/cursor_cext.py:226\u001b[0m, in \u001b[0;36mCMySQLCursor._handle_result\u001b[0;34m(self, result)\u001b[0m\n\u001b[1;32m    224\u001b[0m \u001b[38;5;28mself\u001b[39m\u001b[38;5;241m.\u001b[39m_affected_rows \u001b[38;5;241m=\u001b[39m result[\u001b[38;5;124m\"\u001b[39m\u001b[38;5;124maffected_rows\u001b[39m\u001b[38;5;124m\"\u001b[39m]\n\u001b[1;32m    225\u001b[0m \u001b[38;5;28mself\u001b[39m\u001b[38;5;241m.\u001b[39m_rowcount \u001b[38;5;241m=\u001b[39m \u001b[38;5;241m-\u001b[39m\u001b[38;5;241m1\u001b[39m\n\u001b[0;32m--> 226\u001b[0m \u001b[38;5;28;43mself\u001b[39;49m\u001b[38;5;241;43m.\u001b[39;49m\u001b[43m_handle_warnings\u001b[49m\u001b[43m(\u001b[49m\u001b[43m)\u001b[49m\n",
      "File \u001b[0;32m/Library/Frameworks/Python.framework/Versions/3.10/lib/python3.10/site-packages/mysql/connector/cursor_cext.py:211\u001b[0m, in \u001b[0;36mCMySQLCursor._handle_warnings\u001b[0;34m(self)\u001b[0m\n\u001b[1;32m    207\u001b[0m err \u001b[38;5;241m=\u001b[39m get_mysql_exception(\n\u001b[1;32m    208\u001b[0m     \u001b[38;5;241m*\u001b[39m\u001b[38;5;28mself\u001b[39m\u001b[38;5;241m.\u001b[39m_warnings[\u001b[38;5;241m0\u001b[39m][\u001b[38;5;241m1\u001b[39m:\u001b[38;5;241m3\u001b[39m], warning\u001b[38;5;241m=\u001b[39m\u001b[38;5;129;01mnot\u001b[39;00m \u001b[38;5;28mself\u001b[39m\u001b[38;5;241m.\u001b[39m_connection\u001b[38;5;241m.\u001b[39mraise_on_warnings\n\u001b[1;32m    209\u001b[0m )\n\u001b[1;32m    210\u001b[0m \u001b[38;5;28;01mif\u001b[39;00m \u001b[38;5;28mself\u001b[39m\u001b[38;5;241m.\u001b[39m_connection\u001b[38;5;241m.\u001b[39mraise_on_warnings:\n\u001b[0;32m--> 211\u001b[0m     \u001b[38;5;28;01mraise\u001b[39;00m err\n\u001b[1;32m    213\u001b[0m warnings\u001b[38;5;241m.\u001b[39mwarn(\u001b[38;5;28mstr\u001b[39m(err), stacklevel\u001b[38;5;241m=\u001b[39m\u001b[38;5;241m4\u001b[39m)\n",
      "\u001b[0;31mDatabaseError\u001b[0m: 1050: Table 'Zamowienia' already exists"
     ]
    }
   ],
   "source": [
    "cursor.execute(\"\"\"\n",
    "    CREATE TABLE IF NOT EXISTS Zamowienia (\n",
    "        id_zamowienia INT AUTO_INCREMENT PRIMARY KEY,\n",
    "        id_produktu INT,\n",
    "        ilosc INT NOT NULL,\n",
    "        FOREIGN KEY (id_produktu) REFERENCES Produkty(id_produktu)\n",
    "    )\n",
    "    \"\"\")\n",
    "conn.commit()"
   ]
  },
  {
   "cell_type": "markdown",
   "metadata": {},
   "source": [
    "30."
   ]
  },
  {
   "cell_type": "code",
   "execution_count": 80,
   "metadata": {},
   "outputs": [],
   "source": [
    "cursor.executemany(\"\"\"\n",
    "    INSERT INTO Zamowienia (id_produktu, ilosc) VALUES (%s, %s)\n",
    "    \"\"\", [\n",
    "        (1, 2),\n",
    "        (2, 1)\n",
    "    ])\n",
    "conn.commit()"
   ]
  },
  {
   "cell_type": "markdown",
   "metadata": {},
   "source": [
    "31."
   ]
  },
  {
   "cell_type": "code",
   "execution_count": 81,
   "metadata": {},
   "outputs": [
    {
     "name": "stdout",
     "output_type": "stream",
     "text": [
      "Zamówienia z informacjami o produktach:\n",
      "(1, 'Produkt A', 2)\n",
      "(2, 'Produkt B', 1)\n",
      "(3, 'Produkt A', 2)\n",
      "(4, 'Produkt B', 1)\n"
     ]
    }
   ],
   "source": [
    "join_query = \"\"\"\n",
    "    SELECT Zamowienia.id_zamowienia, Produkty.nazwa_produktu, Zamowienia.ilosc\n",
    "    FROM Zamowienia\n",
    "    JOIN Produkty ON Zamowienia.id_produktu = Produkty.id_produktu\n",
    "    \"\"\"\n",
    "cursor.execute(join_query)\n",
    "results = cursor.fetchall()\n",
    "print(\"Zamówienia z informacjami o produktach:\")\n",
    "for row in results:\n",
    "    print(row)"
   ]
  },
  {
   "cell_type": "markdown",
   "metadata": {},
   "source": [
    "32."
   ]
  },
  {
   "cell_type": "code",
   "execution_count": 86,
   "metadata": {},
   "outputs": [
    {
     "name": "stdout",
     "output_type": "stream",
     "text": [
      "Suma wartości zamówień dla produktu o ID 1: 63.96 zł\n"
     ]
    }
   ],
   "source": [
    "def suma_wartosci_zamowien(id_produktu):\n",
    "    query = \"\"\"\n",
    "    SELECT SUM(Produkty.cena * Zamowienia.ilosc)\n",
    "    FROM Zamowienia\n",
    "    JOIN Produkty ON Zamowienia.id_produktu = Produkty.id_produktu\n",
    "    WHERE Produkty.id_produktu = %s\n",
    "    \"\"\"\n",
    "    cursor.execute(query, (id_produktu,))\n",
    "    result = cursor.fetchone()\n",
    "    return result[0] if result else 0\n",
    "\n",
    "print(f\"Suma wartości zamówień dla produktu o ID 1: {suma_wartosci_zamowien(1)} zł\")\n"
   ]
  },
  {
   "cell_type": "markdown",
   "metadata": {},
   "source": [
    "33."
   ]
  },
  {
   "cell_type": "code",
   "execution_count": 83,
   "metadata": {},
   "outputs": [
    {
     "name": "stdout",
     "output_type": "stream",
     "text": [
      "Raport łącznej wartości zamówień dla każdego produktu:\n",
      "Produkt: Produkt A, Łączna wartość zamówień: 63.96 zł\n",
      "Produkt: Produkt B, Łączna wartość zamówień: 99.00 zł\n"
     ]
    }
   ],
   "source": [
    "raport_query = \"\"\"\n",
    "    SELECT Produkty.nazwa_produktu, SUM(Produkty.cena * Zamowienia.ilosc) AS laczna_wartosc\n",
    "    FROM Zamowienia\n",
    "    JOIN Produkty ON Zamowienia.id_produktu = Produkty.id_produktu\n",
    "    GROUP BY Produkty.nazwa_produktu\n",
    "    \"\"\"\n",
    "cursor.execute(raport_query)\n",
    "results = cursor.fetchall()\n",
    "print(\"Raport łącznej wartości zamówień dla każdego produktu:\")\n",
    "for row in results:\n",
    "    print(f\"Produkt: {row[0]}, Łączna wartość zamówień: {row[1]} zł\")"
   ]
  },
  {
   "cell_type": "code",
   "execution_count": 87,
   "metadata": {},
   "outputs": [
    {
     "name": "stdout",
     "output_type": "stream",
     "text": [
      "Produkt: Produkt A, Łączna wartość zamówień: 63.96 zł\n",
      "Produkt: Produkt B, Łączna wartość zamówień: 99.00 zł\n"
     ]
    },
    {
     "data": {
      "image/png": "[encoded data removed]",
      "text/plain": [
       "<Figure size 800x600 with 1 Axes>"
      ]
     },
     "metadata": {},
     "output_type": "display_data"
    }
   ],
   "source": [
    "produkty = []\n",
    "wartosci = []\n",
    "for row in results:\n",
    "    print(f\"Produkt: {row[0]}, Łączna wartość zamówień: {row[1]} zł\")\n",
    "    produkty.append(row[0])\n",
    "    wartosci.append(row[1])\n",
    "\n",
    "plt.figure(figsize=(8, 6))\n",
    "bars = plt.bar(produkty, wartosci, color='skyblue')\n",
    "plt.xlabel('Produkty')\n",
    "plt.ylabel('Łączna wartość zamówień (zł)')\n",
    "plt.title('Łączna wartość zamówień dla każdego produktu')\n",
    "\n",
    "# Dodanie wartości na słupkach\n",
    "for bar, wartosc in zip(bars, wartosci):\n",
    "    plt.text(bar.get_x() + bar.get_width() / 2, bar.get_height(), f'{wartosc:.2f}', \n",
    "                ha='center', va='bottom')\n",
    "\n",
    "plt.tight_layout()\n",
    "plt.show()"
   ]
  },
  {
   "cell_type": "code",
   "execution_count": 58,
   "metadata": {},
   "outputs": [],
   "source": [
    "if conn.is_connected():\n",
    "        cursor.close()\n",
    "        conn.close()"
   ]
  }
 ],
 "metadata": {
  "kernelspec": {
   "display_name": "Python 3",
   "language": "python",
   "name": "python3"
  },
  "language_info": {
   "codemirror_mode": {
    "name": "ipython",
    "version": 3
   },
   "file_extension": ".py",
   "mimetype": "text/x-python",
   "name": "python",
   "nbconvert_exporter": "python",
   "pygments_lexer": "ipython3",
   "version": "3.10.11"
  }
 },
 "nbformat": 4,
 "nbformat_minor": 2
}
